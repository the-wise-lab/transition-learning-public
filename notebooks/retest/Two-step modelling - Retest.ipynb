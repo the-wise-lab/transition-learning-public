{
 "cells": [
  {
   "cell_type": "markdown",
   "metadata": {},
   "source": [
    "## Analysis overview\n",
    "\n",
    "#### Discovery sample\n",
    "\n",
    "1. Model fitting: [`Model fitting - Discovery.ipynb`](<../../notebooks/discovery/Model fitting - Discovery.ipynb>)\n",
    "2. Confidence analysis: [`Confidence analysis - Discovery.ipynb`](<../../notebooks/discovery/Confidence analysis - Discovery.ipynb>)\n",
    "3. Transdiagnostic factor estimation: [`Transdiagnostic factors - Discovery.ipynb`](<../../notebooks/discovery/Transdiagnostic factors - Discovery.ipynb>)\n",
    "4. Symptom-behaviour analyses: [`Symptom analyses - Discovery.ipynb`](<../../notebooks/discovery/Symptom analyses - Discovery.ipynb>)\n",
    "\n",
    "#### Replication sample\n",
    "\n",
    "1. Model fitting: [`Model fitting - Replication.ipynb`](<../../notebooks/replication/Model fitting - Replication.ipynb>)\n",
    "2. Confidence analysis: [`Confidence analysis - Replication.ipynb`](<../../notebooks/replication/Confidence analysis - Replication.ipynb>)\n",
    "3. Two-step task analysis: [`Two-step modelling - Replication.ipynb`](<../../notebooks/replication/Two-step modelling - Replication.ipynb>)\n",
    "4. Transdiagnostic factor estimation: [`Transdiagnostic factors - Replication.ipynb`](<../../notebooks/replication/Transdiagnostic factors - Replication.ipynb>)\n",
    "5. Symptom-behaviour analyses: [`Symptom analyses - Replication.ipynb`](<../../notebooks/replication/Symptom analyses - Replication.ipynb>)\n",
    "\n",
    "#### Test-retest sample\n",
    "\n",
    "1. Model-fitting: [`Model fitting - Retest.ipynb`](<../../notebooks/retest/Model fitting - Retest.ipynb>)\n",
    "2. **⭐ Two-step modelling: [`Two-step modelling - Retest.ipynb`](<../../notebooks/retest/Two-step modelling - Retest.ipynb>)** ⭐\n",
    "3. Test-retest reliability analyses: [`Test-retest - Retest.ipynb`](<../../notebooks/retest/Test-retest - Retest.ipynb>)\n",
    "\n",
    "#### Follow-up sample\n",
    "\n",
    "1. Model fitting: [`Model fitting - Follow up.ipynb`](<../../notebooks/follow-up/Model fitting - Follow up.ipynb>)\n",
    "2. Transdiagnostic factor estimation: [`Transdiagnostic factors - Follow up.ipynb`](<../../notebooks/follow-up/Transdiagnostic factors - Follow up.ipynb>)\n",
    "3. Test-retest reliability analyses: [`Test-retest - Follow up.ipynb`](<../../notebooks/follow-up/Test-retest - Follow up.ipynb>)\n",
    "4. Longitudinal analyses: [`Longitudinal analyses - Follow up.ipynb`](<../../notebooks/follow-up/Longitudinal analyses - Follow up.ipynb>)\n",
    "\n",
    "#### Follow-up sample (1 year)\n",
    "\n",
    "1. Model fitting: [`Model fitting - Follow up 1yr.ipynb`](<../../notebooks/follow-up-1yr/Model fitting - Follow up 1yr.ipynb>)\n",
    "2. Transdiagnostic factor estimation: [`Transdiagnostic factors - Follow up 1yr.ipynb`](<../../notebooks/follow-up-1yr/Transdiagnostic factors - Follow up 1yr.ipynb>)\n",
    "3. Test-retest reliability analyses: [`Test-retest - Follow up 1yr.ipynb`](<../../notebooks/follow-up-1yr/Test-retest - Follow up 1yr.ipynb>)\n",
    "4. Longitudinal analyses: [`Longitudinal analyses -  Follow up 1yr.ipynb`](<../../notebooks/follow-up-1yr/Longitudinal analyses - Follow up 1yr.ipynb>)\n",
    "\n"
   ]
  },
  {
   "cell_type": "markdown",
   "metadata": {},
   "source": [
    "## Imports\n"
   ]
  },
  {
   "cell_type": "code",
   "execution_count": 1,
   "metadata": {},
   "outputs": [
    {
     "name": "stderr",
     "output_type": "stream",
     "text": [
      "/scratch/users/user/miniconda3/envs/tu_test_env/lib/python3.9/site-packages/tqdm/auto.py:21: TqdmWarning: IProgress not found. Please update jupyter and ipywidgets. See https://ipywidgets.readthedocs.io/en/stable/user_install.html\n",
      "  from .autonotebook import tqdm as notebook_tqdm\n",
      "WARNING (pytensor.tensor.blas): Using NumPy C-API based implementation for BLAS functions.\n"
     ]
    },
    {
     "name": "stdout",
     "output_type": "stream",
     "text": [
      "Font Heebo already available in Matplotlib.\n",
      "Matplotlib style set to: style.mplstyle with font Heebo\n"
     ]
    }
   ],
   "source": [
    "# Make sure we use the CPU\n",
    "import os\n",
    "\n",
    "os.environ[\"JAX_PLATFORMS\"] = \"cpu\"\n",
    "\n",
    "import numpyro\n",
    "\n",
    "numpyro.set_host_device_count(\n",
    "    4\n",
    ")  # Set this to the number of cores you want to use\n",
    "import arviz as az\n",
    "import bambi as bmb\n",
    "import matplotlib.pyplot as plt\n",
    "import numpy as np\n",
    "import pandas as pd\n",
    "import seaborn as sns\n",
    "from stats_utils.bayesian.utils import arviz_to_markdown_table\n",
    "\n",
    "from transition_uncertainty.style import set_style\n",
    "from transition_uncertainty.utils import check_directories\n",
    "\n",
    "set_style(\"style.mplstyle\")\n",
    "\n",
    "# Raise an error if we're not in the root directory by checking if the data folder exists\n",
    "check_directories()\n",
    "\n",
    "# Make sure we use the CPU\n",
    "import jax\n",
    "\n",
    "assert (\n",
    "    str(list(jax.numpy.ones(3).devices())[0]) == \"TFRT_CPU_0\"\n",
    "), \"CPU not being used by Jax - this is wrong\""
   ]
  },
  {
   "cell_type": "markdown",
   "metadata": {},
   "source": [
    "## Load data\n"
   ]
  },
  {
   "cell_type": "code",
   "execution_count": 2,
   "metadata": {},
   "outputs": [
    {
     "name": "stdout",
     "output_type": "stream",
     "text": [
      "Number of subjects: 80\n"
     ]
    },
    {
     "name": "stderr",
     "output_type": "stream",
     "text": [
      "/users/user/.local/lib/python3.9/site-packages/outdated/utils.py:14: OutdatedPackageWarning: The package pingouin is out of date. Your version is 0.5.3, the latest is 0.5.4.\n",
      "Set the environment variable OUTDATED_IGNORE=1 to disable these warnings.\n",
      "  return warn(\n"
     ]
    }
   ],
   "source": [
    "task_df = pd.read_csv(\n",
    "    \"data/retest/twostep-task/cannonball-twostep_task_data.csv\"\n",
    ")\n",
    "\n",
    "# Print number of subjects\n",
    "print(f\"Number of subjects: {len(task_df.subjectID.unique())}\")"
   ]
  },
  {
   "cell_type": "markdown",
   "metadata": {},
   "source": [
    "## Reformat the data\n",
    "\n",
    "This code performs several transformations on the `task_df` DataFrame, which contains data from a task involving trials where subjects respond to stimuli:\n",
    "\n",
    "1. **Sorting the DataFrame**: The DataFrame is sorted by 'subjectID' and 'trial' to ensure all trials for a given subject are grouped together and in the correct sequence.\n",
    "\n",
    "2. **Creating the 'stay' column**: A new column 'stay' is created to indicate whether the subject's response on a given trial was the same as their response on the previous trial. This is achieved by shifting the 'response' column up by one row and comparing it to the original 'response' column. The result is a series of 1s (for True) and 0s (for False).\n",
    "\n",
    "3. **Dropping the last trial for each subject**: The last trial for each subject is dropped, as the 'stay' column for these trials is not meaningful (there is no next trial to compare to).\n",
    "\n",
    "4. **Creating the 'rewarded' column**: A new column 'rewarded' is created as the opposite of the 'exploded' column. A reward is coded as 1 and a penalty (exploded) is coded as -1.\n",
    "\n",
    "5. **Creating the 'common' column**: A new column 'common' is created to indicate whether the subject's response was 'common' or 'rare', based on the color of the ball in the trial. If the ball was pink and the response was 1, or if the ball was purple and the response was 2, this is considered 'common' and coded as 1. Otherwise, it's considered 'rare' and coded as -1.\n"
   ]
  },
  {
   "cell_type": "code",
   "execution_count": 3,
   "metadata": {},
   "outputs": [],
   "source": [
    "# Create new column called \"stay\", which is 1 if the response is the same as\n",
    "# the previous trial, and 0 otherwise.\n",
    "# First, sort the DataFrame by subjectID\n",
    "# and trial to ensure the order is correct\n",
    "task_df = task_df.sort_values(by=[\"subjectID\", \"trial\"])\n",
    "\n",
    "# Create the 'stay' column by comparing the current response with the next response\n",
    "task_df[\"stay\"] = (\n",
    "    task_df.groupby(\"subjectID\")[\"response\"].shift(-1) == task_df[\"response\"]\n",
    ")\n",
    "\n",
    "# Drop the last trial for each subject\n",
    "task_df = (\n",
    "    task_df.groupby(\"subjectID\")\n",
    "    .apply(lambda x: x.iloc[:-1])\n",
    "    .reset_index(drop=True)\n",
    ")\n",
    "\n",
    "# Optional: Convert True/False in 'stay' column to 1/0\n",
    "task_df[\"stay\"] = task_df[\"stay\"].astype(int)\n",
    "\n",
    "\n",
    "# Create a reward column - the opposite of \"exploded\", coded as -1 if exploded,\n",
    "# and 1 if not\n",
    "task_df[\"rewarded\"] = (\n",
    "    task_df[\"exploded\"].replace({False: 1, True: -1}).astype(int)\n",
    ")\n",
    "\n",
    "# Create a common/rare column: If ballColour is pink and response is 1, or\n",
    "# ballColour is purple and response is 2, then common = 1\n",
    "# If ballColour is pink and response is 2, or ballColour is purple and response\n",
    "# is 1, then common = -1\n",
    "task_df[\"common\"] = (\n",
    "    (task_df[\"ballColour\"] == \"pink\") & (task_df[\"response\"] == 1)\n",
    "    | (task_df[\"ballColour\"] == \"purple\") & (task_df[\"response\"] == 2)\n",
    ").astype(int)\n",
    "task_df[\"common\"] = task_df[\"common\"].replace({0: -1})"
   ]
  },
  {
   "cell_type": "markdown",
   "metadata": {},
   "source": [
    "## Plot behaviour\n",
    "\n",
    "This code generates a categorical bar plot using Seaborn's `catplot` function. The plot is based on data from `task_df` and plots the probability of staying with the same option according to the outcome on the previous trial (rewarded or not), and whether it was a common or rare transtiion.\n",
    "\n",
    "We should see a clear interaction here, where people are more likely to stay with the same option if it was rewarded and common, or if it was unrewarded and uncommon, versus unrewarded and common or rewarded and uncommon. This is a hallmark of model-based behaviour in the task.\n",
    "\n",
    "1. **Creating a new DataFrame with cleaner column names**: A copy of the `task_df` DataFrame is made and the column names are renamed for better readability in the plot. The 'rewarded' column is renamed to 'Rewarded', the 'common' column is renamed to 'Transition', and the 'stay' column is renamed to 'P(Stay)'.\n",
    "\n",
    "2. **Replacing numerical values with descriptive labels**: The numerical values in the 'Rewarded' and 'Transition' columns are replaced with more descriptive labels. In the 'Rewarded' column, 1 is replaced with 'Unrewarded' and -1 is replaced with 'Rewarded'. In the 'Transition' column, 1 is replaced with 'Common' and -1 is replaced with 'Rare'.\n",
    "\n",
    "3. **Creating a bar plot**: A bar plot is created using seaborn's `catplot` function. The x-axis represents whether the trial was rewarded or not, the y-axis represents the proportion of 'stay' choices, and different colors represent whether the transition was common or rare. The bars have black outlines and error bars with caps.\n",
    "\n",
    "4. **Limiting the y-axis range**: The range of the y-axis is limited to 0.5-0.8 for better visualization of the differences between the bars.\n"
   ]
  },
  {
   "cell_type": "code",
   "execution_count": 4,
   "metadata": {},
   "outputs": [
    {
     "data": {
      "text/plain": [
       "(0.5, 0.8)"
      ]
     },
     "execution_count": 4,
     "metadata": {},
     "output_type": "execute_result"
    },
    {
     "data": {
      "image/png": "[encoded data removed]",
      "text/plain": [
       "<Figure size 325.5x240 with 1 Axes>"
      ]
     },
     "metadata": {},
     "output_type": "display_data"
    }
   ],
   "source": [
    "# Create a new dataframe with cleaner column names for plotting\n",
    "task_df_plot = task_df.copy().rename(\n",
    "    columns={\"rewarded\": \"Rewarded\", \"common\": \"Transition\", \"stay\": \"P(Stay)\"}\n",
    ")\n",
    "task_df_plot[\"Rewarded\"] = task_df_plot[\"Rewarded\"].replace(\n",
    "    {1: \"Unrewarded\", -1: \"Rewarded\"}\n",
    ")\n",
    "task_df_plot[\"Transition\"] = task_df_plot[\"Transition\"].replace(\n",
    "    {1: \"Common\", -1: \"Rare\"}\n",
    ")\n",
    "\n",
    "# Plot the proportion of stay choices for rewarded and unrewarded trials\n",
    "sns.catplot(\n",
    "    x=\"Rewarded\",\n",
    "    y=\"P(Stay)\",\n",
    "    hue=\"Transition\",\n",
    "    data=task_df_plot,\n",
    "    kind=\"bar\",\n",
    "    order=[\"Unrewarded\", \"Rewarded\"],\n",
    "    hue_order=[\"Common\", \"Rare\"],\n",
    "    edgecolor=\".2\",\n",
    "    capsize=0.1,\n",
    "    height=3,\n",
    ")\n",
    "\n",
    "# Limit y axis to 0.5-1\n",
    "plt.ylim(0.5, 0.8)"
   ]
  },
  {
   "cell_type": "markdown",
   "metadata": {},
   "source": [
    "## Run a hierarchical logistic regression model\n",
    "\n",
    "The code involves data preprocessing and fitting a Bayesian hierarchical logistic regression model using the `bmb.Model` function.\n",
    "\n",
    "1. **Data Preprocessing**:\n",
    "\n",
    "    - `task_df['subjectID'] = task_df['subjectID'].astype('category')`: Converts the 'subjectID' column in `task_df` to a categorical variable. This is crucial for models that need to treat identifiers or group labels as distinct categories rather than numeric values.\n",
    "\n",
    "2. **Building the Model**:\n",
    "\n",
    "    - `model = bmb.Model(...)`: Creates a Bayesian hierarchical logistic regression model. The model formula is specified within the function.\n",
    "        - `'stay ~ 1 + rewarded + (rewarded|subjectID) + common + (common|subjectID) + rewarded:common + (rewarded:common|subjectID)'`: This formula sets 'stay' as the dependent variable. It includes fixed effects (`rewarded`, `common`, and their interaction `rewarded:common`) and random effects ((`rewarded|subjectID`), (`common|subjectID`), and (`rewarded:common|subjectID`)) which allow the effects of `rewarded` and `common` to vary across different `subjectID`s.\n",
    "        - `data=task_df`: Uses `task_df` as the dataset for the model.\n",
    "        - `family='bernoulli'`: Indicates that the dependent variable is binary (Bernoulli distribution), which is typical for logistic regression.\n",
    "\n",
    "3. **Fitting the Model**:\n",
    "    - `results = model.fit()`: Fits the model to the data. The fitted model is stored in `results`. This process involves estimating the parameters of the model based on the provided data.\n"
   ]
  },
  {
   "cell_type": "code",
   "execution_count": 5,
   "metadata": {},
   "outputs": [
    {
     "name": "stderr",
     "output_type": "stream",
     "text": [
      "Modeling the probability that stay==1\n",
      "Compiling.. :   0%|                                                                                                                                      | 0/12000 [00:00<?, ?it/s]\n",
      "\u001b[A\n",
      "\u001b[A\n",
      "\n",
      "\u001b[A\u001b[A\n",
      "\n",
      "Running chain 0:   0%|                                                                                                                                   | 0/12000 [00:04<?, ?it/s]\n",
      "\u001b[A\n",
      "\n",
      "Running chain 0:   5%|██████                                                                                                                   | 600/12000 [00:11<02:23, 79.22it/s]\n",
      "\u001b[A\n",
      "\n",
      "Running chain 0:  10%|███████████▉                                                                                                           | 1200/12000 [00:15<01:35, 113.02it/s]\n",
      "\u001b[A\n",
      "\n",
      "Running chain 0:  15%|█████████████████▊                                                                                                     | 1800/12000 [00:19<01:18, 129.92it/s]\n",
      "\u001b[A\n",
      "\n",
      "\u001b[A\u001b[A\n",
      "Running chain 0:  20%|███████████████████████▊                                                                                               | 2400/12000 [00:23<01:10, 136.54it/s]\n",
      "\n",
      "\u001b[A\u001b[A\n",
      "Running chain 0:  25%|█████████████████████████████▊                                                                                         | 3000/12000 [00:27<01:03, 141.19it/s]\n",
      "\n",
      "\u001b[A\u001b[A\n",
      "Running chain 0:  30%|███████████████████████████████████▋                                                                                   | 3600/12000 [00:31<00:57, 145.04it/s]\n",
      "\n",
      "\u001b[A\u001b[A\n",
      "Running chain 0:  35%|█████████████████████████████████████████▋                                                                             | 4200/12000 [00:34<00:51, 150.01it/s]\n",
      "\u001b[A\n",
      "\n",
      "Running chain 0:  40%|███████████████████████████████████████████████▌                                                                       | 4800/12000 [00:38<00:46, 155.46it/s]\n",
      "\u001b[A\n",
      "\n",
      "Running chain 0:  45%|█████████████████████████████████████████████████████▌                                                                 | 5400/12000 [00:42<00:41, 158.60it/s]\n",
      "\u001b[A\n",
      "\n",
      "Running chain 0:  50%|███████████████████████████████████████████████████████████▌                                                           | 6000/12000 [00:45<00:37, 158.71it/s]\n",
      "\u001b[A\n",
      "\n",
      "Running chain 0:  55%|█████████████████████████████████████████████████████████████████▍                                                     | 6600/12000 [00:49<00:34, 156.78it/s]\n",
      "\u001b[A\n",
      "\n",
      "Running chain 0:  60%|███████████████████████████████████████████████████████████████████████▍                                               | 7200/12000 [00:53<00:30, 155.99it/s]\n",
      "\u001b[A\n",
      "\n",
      "Running chain 0:  65%|█████████████████████████████████████████████████████████████████████████████▎                                         | 7800/12000 [00:57<00:25, 162.03it/s]\n",
      "\u001b[A\n",
      "\n",
      "\u001b[A\u001b[A\n",
      "Running chain 0:  70%|███████████████████████████████████████████████████████████████████████████████████▎                                   | 8400/12000 [01:00<00:21, 163.93it/s]\n",
      "\n",
      "\u001b[A\u001b[A\n",
      "Running chain 0:  75%|█████████████████████████████████████████████████████████████████████████████████████████▎                             | 9000/12000 [01:04<00:18, 163.70it/s]\n",
      "\n",
      "\u001b[A\u001b[A\n",
      "Running chain 0:  80%|███████████████████████████████████████████████████████████████████████████████████████████████▏                       | 9600/12000 [01:08<00:14, 161.36it/s]\n",
      "\n",
      "Running chain 0:  85%|████████████████████████████████████████████████████████████████████████████████████████████████████▎                 | 10200/12000 [01:12<00:11, 154.31it/s]\n",
      "\u001b[A\n",
      "\n",
      "Running chain 0:  90%|██████████████████████████████████████████████████████████████████████████████████████████████████████████▏           | 10800/12000 [01:17<00:08, 146.11it/s]\n",
      "\u001b[A\n",
      "\n",
      "Running chain 0:  95%|████████████████████████████████████████████████████████████████████████████████████████████████████████████████      | 11400/12000 [01:21<00:04, 140.92it/s]\n",
      "\u001b[A\n",
      "\n",
      "Running chain 0: 100%|██████████████████████████████████████████████████████████████████████████████████████████████████████████████████████| 12000/12000 [01:26<00:00, 137.54it/s]\n",
      "\n",
      "Running chain 0: 100%|██████████████████████████████████████████████████████████████████████████████████████████████████████████████████████| 12000/12000 [01:26<00:00, 138.12it/s]\n",
      "Running chain 1: 100%|██████████████████████████████████████████████████████████████████████████████████████████████████████████████████████| 12000/12000 [01:26<00:00, 138.12it/s]\n",
      "Running chain 2: 100%|██████████████████████████████████████████████████████████████████████████████████████████████████████████████████████| 12000/12000 [01:26<00:00, 138.13it/s]\n",
      "Running chain 3: 100%|██████████████████████████████████████████████████████████████████████████████████████████████████████████████████████| 12000/12000 [01:26<00:00, 138.13it/s]\n"
     ]
    }
   ],
   "source": [
    "# Ensure 'subjectID' is treated as a categorical variable\n",
    "task_df[\"subjectID\"] = task_df[\"subjectID\"].astype(\"category\")\n",
    "\n",
    "# Building the Bayesian hierarchical logistic regression model\n",
    "model = bmb.Model(\n",
    "    \"stay ~ 1 + (1|subjectID) + rewarded + (rewarded|subjectID) + common + \"\n",
    "    \"(common|subjectID) + rewarded:common + (rewarded:common|subjectID)\",\n",
    "    data=task_df,\n",
    "    family=\"bernoulli\",\n",
    ")\n",
    "\n",
    "# Fitting the model\n",
    "results = model.fit(\n",
    "    draws=2000,\n",
    "    tune=10000,\n",
    "    chains=4,\n",
    "    random_seed=42,\n",
    "    target_accept=0.85,\n",
    "    inference_method=\"nuts_numpyro\",\n",
    ")"
   ]
  },
  {
   "cell_type": "markdown",
   "metadata": {},
   "source": [
    "### Print a summary of the group-level effects\n",
    "\n",
    "A positive `rewarded:common` effect indicates that people are in general using a model-based strategy.\n"
   ]
  },
  {
   "cell_type": "code",
   "execution_count": 6,
   "metadata": {},
   "outputs": [
    {
     "data": {
      "text/html": [
       "<div>\n",
       "<style scoped>\n",
       "    .dataframe tbody tr th:only-of-type {\n",
       "        vertical-align: middle;\n",
       "    }\n",
       "\n",
       "    .dataframe tbody tr th {\n",
       "        vertical-align: top;\n",
       "    }\n",
       "\n",
       "    .dataframe thead th {\n",
       "        text-align: right;\n",
       "    }\n",
       "</style>\n",
       "<table border=\"1\" class=\"dataframe\">\n",
       "  <thead>\n",
       "    <tr style=\"text-align: right;\">\n",
       "      <th></th>\n",
       "      <th>mean</th>\n",
       "      <th>sd</th>\n",
       "      <th>hdi_2.5%</th>\n",
       "      <th>hdi_97.5%</th>\n",
       "      <th>mcse_mean</th>\n",
       "      <th>mcse_sd</th>\n",
       "      <th>ess_bulk</th>\n",
       "      <th>ess_tail</th>\n",
       "      <th>r_hat</th>\n",
       "    </tr>\n",
       "  </thead>\n",
       "  <tbody>\n",
       "    <tr>\n",
       "      <th>common</th>\n",
       "      <td>0.030</td>\n",
       "      <td>0.042</td>\n",
       "      <td>-0.050</td>\n",
       "      <td>0.115</td>\n",
       "      <td>0.000</td>\n",
       "      <td>0.000</td>\n",
       "      <td>13374.327</td>\n",
       "      <td>6447.832</td>\n",
       "      <td>1.000</td>\n",
       "    </tr>\n",
       "    <tr>\n",
       "      <th>rewarded</th>\n",
       "      <td>0.516</td>\n",
       "      <td>0.075</td>\n",
       "      <td>0.372</td>\n",
       "      <td>0.666</td>\n",
       "      <td>0.001</td>\n",
       "      <td>0.001</td>\n",
       "      <td>3342.924</td>\n",
       "      <td>4356.389</td>\n",
       "      <td>1.001</td>\n",
       "    </tr>\n",
       "    <tr>\n",
       "      <th>rewarded:common</th>\n",
       "      <td>0.049</td>\n",
       "      <td>0.050</td>\n",
       "      <td>-0.052</td>\n",
       "      <td>0.143</td>\n",
       "      <td>0.001</td>\n",
       "      <td>0.000</td>\n",
       "      <td>10012.690</td>\n",
       "      <td>6011.753</td>\n",
       "      <td>1.000</td>\n",
       "    </tr>\n",
       "  </tbody>\n",
       "</table>\n",
       "</div>"
      ],
      "text/plain": [
       "                  mean     sd  hdi_2.5%  hdi_97.5%  mcse_mean  mcse_sd  \\\n",
       "common           0.030  0.042    -0.050      0.115      0.000    0.000   \n",
       "rewarded         0.516  0.075     0.372      0.666      0.001    0.001   \n",
       "rewarded:common  0.049  0.050    -0.052      0.143      0.001    0.000   \n",
       "\n",
       "                  ess_bulk  ess_tail  r_hat  \n",
       "common           13374.327  6447.832  1.000  \n",
       "rewarded          3342.924  4356.389  1.001  \n",
       "rewarded:common  10012.690  6011.753  1.000  "
      ]
     },
     "execution_count": 6,
     "metadata": {},
     "output_type": "execute_result"
    }
   ],
   "source": [
    "az.summary(\n",
    "    results,\n",
    "    hdi_prob=0.95,\n",
    "    var_names=[\"common\", \"rewarded\", \"rewarded:common\"],\n",
    "    round_to=3,\n",
    ")"
   ]
  },
  {
   "cell_type": "markdown",
   "metadata": {},
   "source": [
    "### Get the subject-level interaction effects\n",
    "\n",
    "The subject-level `rewarded:common` effects indicate the extent to which each subject's behaviour is guided by model-based versus model-free strategies. Note that this is relative to the group-level effect, and so the mean is 0.\n"
   ]
  },
  {
   "cell_type": "code",
   "execution_count": 7,
   "metadata": {},
   "outputs": [
    {
     "data": {
      "image/png": "[encoded data removed]",
      "text/plain": [
       "<Figure size 280x240 with 1 Axes>"
      ]
     },
     "metadata": {},
     "output_type": "display_data"
    }
   ],
   "source": [
    "subject_effects = (\n",
    "    results.posterior[\"rewarded:common|subjectID\"]\n",
    "    .stack(draws=[\"draw\", \"chain\"])\n",
    "    .mean(dim=\"draws\")\n",
    ")\n",
    "\n",
    "# Create figure\n",
    "plt.figure(figsize=(3.5, 3))\n",
    "\n",
    "# Plot as a histogram with black outline\n",
    "plt.hist(subject_effects, edgecolor=\"black\", bins=15)\n",
    "\n",
    "# Update labels\n",
    "plt.xlabel(\"Model-basedness\")\n",
    "plt.ylabel(\"Frequency\")\n",
    "\n",
    "# Remove top and right spines\n",
    "sns.despine()"
   ]
  },
  {
   "cell_type": "markdown",
   "metadata": {},
   "source": [
    "### Export to CSV\n",
    "\n",
    "Finally we save the results for further analyses.\n"
   ]
  },
  {
   "cell_type": "code",
   "execution_count": 8,
   "metadata": {},
   "outputs": [],
   "source": [
    "# Create a dataframe\n",
    "subject_effects_df = pd.DataFrame(subject_effects, columns=[\"parameter\"])\n",
    "\n",
    "# Add a column for subjectID\n",
    "subject_effects_df[\"subjectID\"] = task_df[\"subjectID\"].unique()\n",
    "\n",
    "# Create directory to save results if it doesn't exist\n",
    "if not os.path.isdir(\"results/retest/two-step_model-fit\"):\n",
    "    os.makedirs(\"results/retest/two-step_model-fit\")\n",
    "\n",
    "# Save to CSV\n",
    "subject_effects_df.to_csv(\n",
    "    \"results/retest/two-step_model-fit/twostep_subject_effects.csv\",\n",
    "    index=False,\n",
    ")"
   ]
  }
 ],
 "metadata": {
  "kernelspec": {
   "display_name": "tu_test_env",
   "language": "python",
   "name": "tu_test_env"
  }
 },
 "nbformat": 4,
 "nbformat_minor": 2
}
