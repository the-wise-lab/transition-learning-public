{
 "cells": [
  {
   "cell_type": "markdown",
   "metadata": {},
   "source": [
    "# Prediction of transdiagnostic factors - Discovery sample\n",
    "\n",
    "## Analysis overview\n",
    "\n",
    "#### Discovery sample\n",
    "\n",
    "1. Model fitting: [`Model fitting - Discovery.ipynb`](<../../notebooks/discovery/Model fitting - Discovery.ipynb>)\n",
    "2. Confidence analysis: [`Confidence analysis - Discovery.ipynb`](<../../notebooks/discovery/Confidence analysis - Discovery.ipynb>)\n",
    "3. **⭐ Transdiagnostic factor estimation: [`Transdiagnostic factors - Discovery.ipynb`](<../../notebooks/discovery/Transdiagnostic factors - Discovery.ipynb>)** ⭐\n",
    "4. Symptom-behaviour analyses: [`Symptom analyses - Discovery.ipynb`](<../../notebooks/discovery/Symptom analyses - Discovery.ipynb>)\n",
    "\n",
    "#### Replication sample\n",
    "\n",
    "1. Model fitting: [`Model fitting - Replication.ipynb`](<../../notebooks/replication/Model fitting - Replication.ipynb>)\n",
    "2. Confidence analysis: [`Confidence analysis - Replication.ipynb`](<../../notebooks/replication/Confidence analysis - Replication.ipynb>)\n",
    "3. Two-step task analysis: [`Two-step modelling - Replication.ipynb`](<../../notebooks/replication/Two-step modelling - Replication.ipynb>)\n",
    "4. Transdiagnostic factor estimation: [`Transdiagnostic factors - Replication.ipynb`](<../../notebooks/replication/Transdiagnostic factors - Replication.ipynb>)\n",
    "5. Symptom-behaviour analyses: [`Symptom analyses - Replication.ipynb`](<../../notebooks/replication/Symptom analyses - Replication.ipynb>)\n",
    "\n",
    "#### Test-retest sample\n",
    "\n",
    "1. Model-fitting: [`Model fitting - Retest.ipynb`](<../../notebooks/retest/Model fitting - Retest.ipynb>)\n",
    "2. Two-step modelling: [`Two-step modelling - Retest.ipynb`](<../../notebooks/retest/Two-step modelling - Retest.ipynb>)\n",
    "3. Test-retest reliability analyses: [`Test-retest - Retest.ipynb`](<../../notebooks/retest/Test-retest - Retest.ipynb>)\n",
    "\n",
    "#### Follow-up sample\n",
    "\n",
    "1. Model fitting: [`Model fitting - Follow up.ipynb`](<../../notebooks/follow-up/Model fitting - Follow up.ipynb>)\n",
    "2. Transdiagnostic factor estimation: [`Transdiagnostic factors - Follow up.ipynb`](<../../notebooks/follow-up/Transdiagnostic factors - Follow up.ipynb>)\n",
    "3. Test-retest reliability analyses: [`Test-retest - Follow up.ipynb`](<../../notebooks/follow-up/Test-retest - Follow up.ipynb>)\n",
    "4. Longitudinal analyses: [`Longitudinal analyses - Follow up.ipynb`](<../../notebooks/follow-up/Longitudinal analyses - Follow up.ipynb>)\n",
    "\n",
    "#### Follow-up sample (1 year)\n",
    "\n",
    "1. Model fitting: [`Model fitting - Follow up 1yr.ipynb`](<../../notebooks/follow-up-1yr/Model fitting - Follow up 1yr.ipynb>)\n",
    "2. Transdiagnostic factor estimation: [`Transdiagnostic factors - Follow up 1yr.ipynb`](<../../notebooks/follow-up-1yr/Transdiagnostic factors - Follow up 1yr.ipynb>)\n",
    "3. Test-retest reliability analyses: [`Test-retest - Follow up 1yr.ipynb`](<../../notebooks/follow-up-1yr/Test-retest - Follow up 1yr.ipynb>)\n",
    "4. Longitudinal analyses: [`Longitudinal analyses -  Follow up 1yr.ipynb`](<../../notebooks/follow-up-1yr/Longitudinal analyses - Follow up 1yr.ipynb>)\n",
    "\n",
    "## Notebook overview\n",
    "\n",
    "This notebook trains a model to predict scores on the three transdiagnostic factors originally identified by [Gillan et al. (2016)](https://elifesciences.org/articles/11305).\n",
    "\n",
    "We achieve this using the [FACSIMILE](https://github.com/tobywise/FACSIMILE) package.\n"
   ]
  },
  {
   "cell_type": "code",
   "execution_count": 1,
   "metadata": {},
   "outputs": [
    {
     "name": "stderr",
     "output_type": "stream",
     "text": [
      "/users/user/.local/lib/python3.9/site-packages/outdated/utils.py:14: OutdatedPackageWarning: The package pingouin is out of date. Your version is 0.5.3, the latest is 0.5.4.\n",
      "Set the environment variable OUTDATED_IGNORE=1 to disable these warnings.\n",
      "  return warn(\n"
     ]
    },
    {
     "name": "stdout",
     "output_type": "stream",
     "text": [
      "Font Heebo already available in Matplotlib.\n",
      "Matplotlib style set to: style.mplstyle with font Heebo\n"
     ]
    }
   ],
   "source": [
    "import os\n",
    "\n",
    "import matplotlib.pyplot as plt\n",
    "import numpy as np\n",
    "import pandas as pd\n",
    "from facsimile.eval import FACSIMILEOptimiser\n",
    "from facsimile.plotting import plot_predictions\n",
    "from facsimile.utils import train_validation_test_split\n",
    "\n",
    "from transition_uncertainty.style import set_style\n",
    "from transition_uncertainty.utils import check_directories\n",
    "\n",
    "# Raise an error if we're not in the root directory by checking if the data folder exists\n",
    "check_directories()\n",
    "\n",
    "# Set style for figures\n",
    "set_style(\"style.mplstyle\")"
   ]
  },
  {
   "cell_type": "markdown",
   "metadata": {},
   "source": [
    "## Data\n",
    "\n",
    "First, we load the data used to train the model, which comes from [Hopkins et al. (2022)](https://psyarxiv.com/q83sh/).\n"
   ]
  },
  {
   "cell_type": "code",
   "execution_count": 2,
   "metadata": {},
   "outputs": [],
   "source": [
    "items_url = (\n",
    "    \"https://raw.githubusercontent.com/tobywise/FACSIMILE/\"\n",
    "    \"35b15c71523055ed78d7f6c50a1e7fb875382817/data/items.csv\"\n",
    ")\n",
    "factor_scores_url = (\n",
    "    \"https://raw.githubusercontent.com/tobywise/FACSIMILE/\"\n",
    "    \"35b15c71523055ed78d7f6c50a1e7fb875382817/data/factor_scores.csv\"\n",
    ")\n",
    "items = pd.read_csv(items_url)\n",
    "factor_scores = pd.read_csv(factor_scores_url)"
   ]
  },
  {
   "cell_type": "markdown",
   "metadata": {},
   "source": [
    "### Select the items that we have data for\n",
    "\n",
    "We used a subset of these items based on an earlier version of the item reduction procedure. We need to train an improved prediction model based on these items\n"
   ]
  },
  {
   "cell_type": "code",
   "execution_count": 3,
   "metadata": {},
   "outputs": [],
   "source": [
    "# Laod in our questionnaire dataframe\n",
    "questionnaire_df = pd.read_csv(\n",
    "    \"data/discovery/questionnaires/questionnaire_data_wide-reverse_coded.csv\"\n",
    ")\n",
    "\n",
    "# Get the columns to include\n",
    "included_columns = [i for i in items.columns if i in questionnaire_df.columns]\n",
    "\n",
    "# Select these columns in the items dataframe\n",
    "items = items[included_columns]\n",
    "\n",
    "# Select the columns in the questionnaire dataframe\n",
    "questionnaire_df = questionnaire_df[[\"subjectID\"] + included_columns]"
   ]
  },
  {
   "cell_type": "markdown",
   "metadata": {},
   "source": [
    "### Recode our data\n",
    "\n",
    "The original data (with the exception of the LSAS and OCI) was coded with responses starting from 1, whereas ours (with the exception of the EAT measure) starts from 0. We'll recode our data so that responses start from 1.\n",
    "\n",
    "We also run some checks on the data here as it's vital that the data we've collected is in the same format as the data used to train the model. Here we check:\n",
    "1. That we have the same columns in the same order\n",
    "2. That the minimum values in each column are the same\n",
    "3. That the maximum values in each column are the same\n",
    "4. That we don't have item pairs with different correlation signs between the two datasets - this could indicate that an item is reverse coded when it shouldn't be."
   ]
  },
  {
   "cell_type": "code",
   "execution_count": 4,
   "metadata": {},
   "outputs": [],
   "source": [
    "# Make sure all items in questionnaire_df (except those including EAT) start\n",
    "# from 1 rather than 0\n",
    "for col in questionnaire_df.columns:\n",
    "    if (\n",
    "        col != \"subjectID\"\n",
    "        and not \"EAT\" in col\n",
    "        and not \"LSAS\" in col\n",
    "        and not \"OCI\" in col\n",
    "    ):\n",
    "        questionnaire_df[col] = questionnaire_df[col] + 1\n",
    "\n",
    "# Check that the columns line up\n",
    "assert (\n",
    "    questionnaire_df.columns[1:] == items.columns\n",
    ").all(), \"Columns do not match\"\n",
    "\n",
    "# Check that the values look right across both dataframes\n",
    "assert (\n",
    "    questionnaire_df.max()[1:] == items.max()\n",
    ").all(), \"Max values do not match\"\n",
    "assert (\n",
    "    questionnaire_df.min()[1:] == items.min()\n",
    ").all(), \"Min values do not match\"\n",
    "\n",
    "# Check that we don't have any items that might be inversely coded To check\n",
    "# this we look for item pairs that have different correlations (|r difference|\n",
    "# > 0.3) and different signs - e.g., 0.6 in the training data and -0.6 in the\n",
    "# testing data\n",
    "assert (\n",
    "    ~(\n",
    "        ~np.isclose(\n",
    "            questionnaire_df.iloc[:, 1:].corr(), items.corr(), atol=0.3\n",
    "        )\n",
    "        & (\n",
    "            np.sign(questionnaire_df.iloc[:, 1:].corr())\n",
    "            != np.sign(items.corr())\n",
    "        )\n",
    "    )\n",
    "    .any()\n",
    "    .any()\n",
    "), \"It looks like there are items with different correlation signs in the two datasets\""
   ]
  },
  {
   "cell_type": "markdown",
   "metadata": {},
   "source": [
    "### Split into train, test, validation sets\n"
   ]
  },
  {
   "cell_type": "code",
   "execution_count": 5,
   "metadata": {},
   "outputs": [],
   "source": [
    "# Scale factor scores to ahve mean 0 and std 1\n",
    "factor_scores.iloc[:, 2:] = (\n",
    "    factor_scores.iloc[:, 2:] - factor_scores.iloc[:, 2:].mean()\n",
    ") / factor_scores.iloc[:, 2:].std()\n",
    "\n",
    "\n",
    "X_train, X_val, X_test, y_train, y_val, y_test = train_validation_test_split(\n",
    "    items,  # Drop the first two columns, which are just IDs\n",
    "    factor_scores.iloc[\n",
    "        :, 2:\n",
    "    ],  # Drop the first two columns, which are just IDs\n",
    "    train_size=0.6,\n",
    "    test_size=0.2,\n",
    "    val_size=0.2,\n",
    ")"
   ]
  },
  {
   "cell_type": "markdown",
   "metadata": {},
   "source": [
    "## Run the optimiser\n",
    "\n",
    "The `FACSIMILEOptimiser` class runs an random search across the hyperparameter space to find regalularisation hyperparameter values that provide the best performance on the validation set.\n",
    "\n",
    "It is worth running a large number of iterations (e.g., 1000) to ensure that the optimiser has a good chance of finding the best hyperparameter values. However, this can take a long time. To speed things up, we can run the optimiser in parallel across multiple cores. This is done by setting the `n_jobs` parameter to the number of cores to use.\n",
    "\n",
    "> ⚠ Note: The `n_jobs` parameter is set to 10 here. You may want to reduce this if you have fewer than 10 cores available.\n"
   ]
  },
  {
   "cell_type": "code",
   "execution_count": 6,
   "metadata": {},
   "outputs": [
    {
     "name": "stderr",
     "output_type": "stream",
     "text": [
      "Evaluation: 100%|██████████████████████████████████████████████████████████████████████████████████████████████████████████████████████████████| 1000/1000 [00:12<00:00, 81.27it/s]\n"
     ]
    }
   ],
   "source": [
    "# Initialise the optimiser\n",
    "optimiser = FACSIMILEOptimiser(n_iter=1000, n_jobs=10)\n",
    "\n",
    "# Fit\n",
    "optimiser.fit(\n",
    "    X_train, y_train, X_val, y_val, factor_names=[\"AD\", \"Compul\", \"SW\"]\n",
    ")"
   ]
  },
  {
   "cell_type": "markdown",
   "metadata": {},
   "source": [
    "### Get the best classifier\n",
    "\n",
    "We want to use the full set of items so we'll get the best classifier with up to 71 items (the total number we have data for).\n"
   ]
  },
  {
   "cell_type": "code",
   "execution_count": 7,
   "metadata": {},
   "outputs": [
    {
     "name": "stdout",
     "output_type": "stream",
     "text": [
      "Number of included items: 67\n"
     ]
    }
   ],
   "source": [
    "# Get the best classifier\n",
    "best_clf = optimiser.get_best_classifier_max_items(71, metric=\"min_r2\")\n",
    "\n",
    "# Fit\n",
    "best_clf.fit(X_train, y_train)\n",
    "\n",
    "# Print number of included items\n",
    "print(\"Number of included items: {}\".format(best_clf.included_items.sum()))"
   ]
  },
  {
   "cell_type": "code",
   "execution_count": 8,
   "metadata": {},
   "outputs": [],
   "source": [
    "# Get predictions\n",
    "y_pred = best_clf.predict(X_test)\n",
    "\n",
    "# Create a dataframe of the predictions and true values\n",
    "pred_df = pd.DataFrame(y_pred, columns=[\"AD_pred\", \"Compul_pred\", \"SW_pred\"])\n",
    "\n",
    "# Add the true values\n",
    "pred_df[\"AD_true\"] = y_test[\"AD\"].values\n",
    "pred_df[\"Compul_true\"] = y_test[\"Compul\"].values\n",
    "pred_df[\"SW_true\"] = y_test[\"SW\"].values"
   ]
  },
  {
   "cell_type": "markdown",
   "metadata": {},
   "source": [
    "We can then predict factor scores for the test data using the `predict` method and plot the predicted scores against the true scores.\n"
   ]
  },
  {
   "cell_type": "code",
   "execution_count": 9,
   "metadata": {},
   "outputs": [
    {
     "data": {
      "image/png": "[encoded data removed]",
      "text/plain": [
       "<Figure size 699.93x245 with 3 Axes>"
      ]
     },
     "metadata": {},
     "output_type": "display_data"
    }
   ],
   "source": [
    "# Get predictions\n",
    "y_pred = best_clf.predict(X_test)\n",
    "\n",
    "# Create a dataframe of the predictions and true values\n",
    "pred_df = pd.DataFrame(y_pred, columns=[\"AD_pred\", \"Compul_pred\", \"SW_pred\"])\n",
    "\n",
    "# Add the true values\n",
    "pred_df[\"AD_true\"] = y_test[\"AD\"].values\n",
    "pred_df[\"Compul_true\"] = y_test[\"Compul\"].values\n",
    "pred_df[\"SW_true\"] = y_test[\"SW\"].values\n",
    "\n",
    "# Create results/replication/transdiagnostic-factors if it doesn't exist\n",
    "if not os.path.exists(\"results/discovery/transdiagnostic-factors\"):\n",
    "    os.makedirs(\"results/discovery/transdiagnostic-factors\")\n",
    "\n",
    "# Save the predictions\n",
    "pred_df.to_csv(\n",
    "    \"results/discovery/transdiagnostic-factors/true-vs-predicted.csv\",\n",
    "    index=False,\n",
    ")\n",
    "\n",
    "# Plot\n",
    "plot_predictions(y_test, y_pred, [\"AD\", \"Compul\", \"SW\"], scale=0.7)"
   ]
  },
  {
   "cell_type": "markdown",
   "metadata": {},
   "source": [
    "### Retrain the classifier on all the data\n",
    "\n",
    "Given that we know this model works well, we'll retrain it on all the data to take full advantage of the data we have.\n"
   ]
  },
  {
   "cell_type": "code",
   "execution_count": 10,
   "metadata": {},
   "outputs": [],
   "source": [
    "# Retrain classifier on all data\n",
    "best_clf.fit(items, factor_scores.iloc[:, 2:])\n",
    "\n",
    "# Predict scores\n",
    "y_pred = best_clf.predict(questionnaire_df.iloc[:, 1:])"
   ]
  },
  {
   "cell_type": "markdown",
   "metadata": {},
   "source": [
    "### Take a look at the distribution of scores\n",
    "\n",
    "We can plot scores on each factor as a histogram.\n"
   ]
  },
  {
   "cell_type": "code",
   "execution_count": 11,
   "metadata": {},
   "outputs": [
    {
     "data": {
      "image/png": "[encoded data removed]",
      "text/plain": [
       "<Figure size 560x184 with 3 Axes>"
      ]
     },
     "metadata": {},
     "output_type": "display_data"
    }
   ],
   "source": [
    "# Plot histogram of scores on each of the three factors in y_pred\n",
    "f, ax = plt.subplots(1, 3, figsize=(7, 2.3))\n",
    "\n",
    "# Get the default color cycle\n",
    "prop_cycle = plt.rcParams[\"axes.prop_cycle\"]\n",
    "colors = prop_cycle.by_key()[\"color\"]\n",
    "\n",
    "for i, factor in enumerate(y_pred.columns):\n",
    "    ax[i].hist(y_pred[factor], bins=10, color=colors[i], alpha=0.6)\n",
    "    ax[i].set_title(factor)\n",
    "    ax[i].set_xlabel(\"Predicted score\")\n",
    "    ax[i].set_ylabel(\"Frequency\")\n",
    "\n",
    "plt.tight_layout()"
   ]
  },
  {
   "cell_type": "markdown",
   "metadata": {},
   "source": [
    "## Export the predicted scores\n",
    "\n",
    "Finally, we can export the predicted scores on our test data.\n"
   ]
  },
  {
   "cell_type": "code",
   "execution_count": 12,
   "metadata": {},
   "outputs": [],
   "source": [
    "# Add subjectID to y_pred\n",
    "y_pred[\"subjectID\"] = questionnaire_df[\"subjectID\"]\n",
    "\n",
    "# Save to csv\n",
    "y_pred.to_csv(\n",
    "    \"results/discovery/transdiagnostic-factors/predicted_factor_scores.csv\",\n",
    "    index=False,\n",
    ")"
   ]
  },
  {
   "cell_type": "markdown",
   "metadata": {},
   "source": [
    "## Save the trained model\n"
   ]
  },
  {
   "cell_type": "code",
   "execution_count": 13,
   "metadata": {},
   "outputs": [],
   "source": [
    "# Create directory if it doesn't exist\n",
    "if not os.path.exists(\"results/discovery/transdiagnostic-factors\"):\n",
    "    os.makedirs(\"results/discovery/transdiagnostic-factors\")\n",
    "\n",
    "# Save\n",
    "best_clf.save(\"results/discovery/transdiagnostic-factors/facsimile_model.pkl\")\n",
    "\n",
    "# Also get the weights and save these\n",
    "weights = best_clf.get_weights()\n",
    "\n",
    "# Save\n",
    "weights.to_csv(\n",
    "    \"results/discovery/transdiagnostic-factors/facsimile_weights.csv\"\n",
    ")"
   ]
  }
 ],
 "metadata": {
  "kernelspec": {
   "display_name": "tu_test_env",
   "language": "python",
   "name": "tu_test_env"
  },
  "language_info": {
   "codemirror_mode": {
    "name": "ipython",
    "version": 3
   },
   "file_extension": ".py",
   "mimetype": "text/x-python",
   "name": "python",
   "nbconvert_exporter": "python",
   "pygments_lexer": "ipython3",
   "version": "3.9.19"
  }
 },
 "nbformat": 4,
 "nbformat_minor": 2
}
