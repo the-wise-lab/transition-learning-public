{
 "cells": [
  {
   "cell_type": "markdown",
   "metadata": {},
   "source": [
    "# Symptom-behaviour analyses - Replication sample\n",
    "\n",
    "## Analysis overview\n",
    "\n",
    "#### Discovery sample\n",
    "\n",
    "1. Model fitting: [`Model fitting - Discovery.ipynb`](<../../notebooks/discovery/Model fitting - Discovery.ipynb>)\n",
    "2. Confidence analysis: [`Confidence analysis - Discovery.ipynb`](<../../notebooks/discovery/Confidence analysis - Discovery.ipynb>)\n",
    "3. Transdiagnostic factor estimation: [`Transdiagnostic factors - Discovery.ipynb`](<../../notebooks/discovery/Transdiagnostic factors - Discovery.ipynb>)\n",
    "4. Symptom-behaviour analyses: [`Symptom analyses - Discovery.ipynb`](<../../notebooks/discovery/Symptom analyses - Discovery.ipynb>)\n",
    "\n",
    "#### Replication sample\n",
    "\n",
    "1. Model fitting: [`Model fitting - Replication.ipynb`](<../../notebooks/replication/Model fitting - Replication.ipynb>)\n",
    "2. Confidence analysis: [`Confidence analysis - Replication.ipynb`](<../../notebooks/replication/Confidence analysis - Replication.ipynb>)\n",
    "3. Two-step task analysis: [`Two-step modelling - Replication.ipynb`](<../../notebooks/replication/Two-step modelling - Replication.ipynb>)\n",
    "4. Transdiagnostic factor estimation: [`Transdiagnostic factors - Replication.ipynb`](<../../notebooks/replication/Transdiagnostic factors - Replication.ipynb>)\n",
    "5. **⭐ Symptom-behaviour analyses: [`Symptom analyses - Replication.ipynb`](<../../notebooks/replication/Symptom analyses - Replication.ipynb>)** ⭐\n",
    "\n",
    "#### Test-retest sample\n",
    "\n",
    "1. Model-fitting: [`Model fitting - Retest.ipynb`](<../../notebooks/retest/Model fitting - Retest.ipynb>)\n",
    "2. Two-step modelling: [`Two-step modelling - Retest.ipynb`](<../../notebooks/retest/Two-step modelling - Retest.ipynb>)\n",
    "3. Test-retest reliability analyses: [`Test-retest - Retest.ipynb`](<../../notebooks/retest/Test-retest - Retest.ipynb>)\n",
    "\n",
    "#### Follow-up sample\n",
    "\n",
    "1. Model fitting: [`Model fitting - Follow up.ipynb`](<../../notebooks/follow-up/Model fitting - Follow up.ipynb>)\n",
    "2. Transdiagnostic factor estimation: [`Transdiagnostic factors - Follow up.ipynb`](<../../notebooks/follow-up/Transdiagnostic factors - Follow up.ipynb>)\n",
    "3. Test-retest reliability analyses: [`Test-retest - Follow up.ipynb`](<../../notebooks/follow-up/Test-retest - Follow up.ipynb>)\n",
    "4. Longitudinal analyses: [`Longitudinal analyses - Follow up.ipynb`](<../../notebooks/follow-up/Longitudinal analyses - Follow up.ipynb>)\n",
    "\n",
    "#### Follow-up sample (1 year)\n",
    "\n",
    "1. Model fitting: [`Model fitting - Follow up 1yr.ipynb`](<../../notebooks/follow-up-1yr/Model fitting - Follow up 1yr.ipynb>)\n",
    "2. Transdiagnostic factor estimation: [`Transdiagnostic factors - Follow up 1yr.ipynb`](<../../notebooks/follow-up-1yr/Transdiagnostic factors - Follow up 1yr.ipynb>)\n",
    "3. Test-retest reliability analyses: [`Test-retest - Follow up 1yr.ipynb`](<../../notebooks/follow-up-1yr/Test-retest - Follow up 1yr.ipynb>)\n",
    "4. Longitudinal analyses: [`Longitudinal analyses -  Follow up 1yr.ipynb`](<../../notebooks/follow-up-1yr/Longitudinal analyses - Follow up 1yr.ipynb>)\n",
    "\n",
    "## Notebook overview\n",
    "\n",
    "This notebook tests for relationships between our behavioural metrics and transdiagnostic symptom dimensions. We also test for relationships between behaviour and state measures of anxiety and depression.\n"
   ]
  },
  {
   "cell_type": "markdown",
   "metadata": {},
   "source": [
    "## Imports"
   ]
  },
  {
   "cell_type": "code",
   "execution_count": 1,
   "metadata": {},
   "outputs": [
    {
     "name": "stderr",
     "output_type": "stream",
     "text": [
      "/users/user/.local/lib/python3.9/site-packages/outdated/utils.py:14: OutdatedPackageWarning: The package pingouin is out of date. Your version is 0.5.3, the latest is 0.5.4.\n",
      "Set the environment variable OUTDATED_IGNORE=1 to disable these warnings.\n",
      "  return warn(\n"
     ]
    },
    {
     "name": "stdout",
     "output_type": "stream",
     "text": [
      "Font Heebo already available in Matplotlib.\n",
      "Matplotlib style set to: style.mplstyle with font Heebo\n"
     ]
    }
   ],
   "source": [
    "import os\n",
    "import sys\n",
    "\n",
    "import matplotlib.pyplot as plt\n",
    "import numpy as np\n",
    "import pandas as pd\n",
    "from numpy.linalg import cond\n",
    "from pingouin import mediation_analysis\n",
    "from stats_utils.mediation.utils import mediation_analysis_to_markdown_table\n",
    "from stats_utils.regression.utils import (\n",
    "    ols_to_markdown_table,\n",
    "    run_regression_and_plot,\n",
    ")\n",
    "from statsmodels.stats.outliers_influence import variance_inflation_factor\n",
    "\n",
    "from transition_uncertainty.analysis_utils import (\n",
    "    calculate_performance,\n",
    "    compile_ols_results,\n",
    ")\n",
    "from transition_uncertainty.data import load_and_process_data\n",
    "from transition_uncertainty.style import set_style\n",
    "from transition_uncertainty.utils import (\n",
    "    caption_and_save_markdown_tables,\n",
    "    check_directories,\n",
    ")\n",
    "\n",
    "# Raise an error if we're not in the root directory by checking if the data folder exists\n",
    "check_directories()\n",
    "\n",
    "set_style(\"style.mplstyle\")\n",
    "\n",
    "# Create necessary diredtory if it does not exist\n",
    "if not os.path.exists(\"results/replication/symptom_models\"):\n",
    "    os.makedirs(\"results/replication/symptom_models\")\n",
    "\n",
    "# Dictionary for renaming variables\n",
    "variable_rename_dict = {\n",
    "    \"Compul\": \"CIT\",\n",
    "    \"GAD_7\": \"GAD 7\",\n",
    "    \"PHQ_8\": \"PHQ 8\",\n",
    "    \"gender\": \"Gender\",\n",
    "    \"age\": \"Age\",\n",
    "    \"motivation\": \"Motivation\",\n",
    "    \"bet_correct\": \"Accuracy\",\n",
    "}"
   ]
  },
  {
   "cell_type": "markdown",
   "metadata": {},
   "source": [
    "## Load in data\n",
    "\n",
    "### 1. Data Loading\n",
    "The code initially loads multiple datasets related to:\n",
    "- **Questionnaire Data:** Participant responses from various questionnaires.\n",
    "- **Transdiagnostic Factor Scores:** Predicted factor scores on three transdiagnostic dimensions: Anxiety + Depression (AD), Compulsivity & Intriusive Thought (Compul), and Social Withdrawal (SW)\n",
    "- **Model Parameters:** Parameters estimated from computational modelling of behaviour on the task.\n",
    "- **Confidence Parameters:** Parameters specifically derived from modelling of confidence reports in the task.\n",
    "\n",
    "Each dataset is loaded from its respective CSV file using Pandas' `read_csv` function.\n",
    "\n",
    "### 2. Data Merging\n",
    "After loading, the datasets are merged sequentially into a single DataFrame named `qdata`. Merging is based on the \"subjectID\", ensuring all information corresponding to a participant is collated into single rows within the merged DataFrame.\n",
    "\n",
    "### 3. Data Filtering\n",
    "Subsequent steps involve filtering the data to exclude particular categories and subjects based on specific conditions:\n",
    "- Subjects identifying with gender category \"3\" ('Other') are excluded due to their small sample size, which may not provide robust estimates in subsequent analyses.\n",
    "- Subjects who failed attention checks are excluded.\n",
    "- Subjects who incorrectly answered more than one \"infrequency item check\" are excluded.\n",
    "\n",
    "### 4. Data Scaling\n",
    "Post-filtering, variables (excluding 'subjectID' and 'gender') are scaled (standardized) by subtracting their respective means and dividing by their standard deviations. \n",
    "\n"
   ]
  },
  {
   "cell_type": "code",
   "execution_count": 2,
   "metadata": {},
   "outputs": [
    {
     "name": "stdout",
     "output_type": "stream",
     "text": [
      "Initial number of subjects: 1400\n",
      "Number of included subjects after excluding gender != 0 or 1: 1391\n",
      "Number of included subjects after excluding age < 18 or >= 100: 1391\n",
      "Number of included subjects after excluding attention check failures: 1322\n",
      "Mean (SD) age = 41.15 (12.69)\n",
      "n male = 655; n female = 667\n",
      "Number scoring above cutoff for GAD: 243 (18.38%)\n",
      "Number scoring above cutoff for MDD: 312 (23.6%)\n",
      "Number of subjects after filtering and processing: 1322\n"
     ]
    },
    {
     "name": "stderr",
     "output_type": "stream",
     "text": [
      "/scratch/users/user/transition_uncertainty/transition_uncertainty/analysis_utils.py:104: FutureWarning: Setting an item of incompatible dtype is deprecated and will raise in a future error of pandas. Value 'pink' has dtype incompatible with float64, please explicitly cast to a compatible dtype first.\n",
      "  confidence_df.loc[confidence_df[\"pinkBet\"] != 0, \"bet_colour\"] = \"pink\"\n"
     ]
    }
   ],
   "source": [
    "qdata = load_and_process_data(\"replication\", scale=True)"
   ]
  },
  {
   "cell_type": "markdown",
   "metadata": {},
   "source": [
    "## Run analyses"
   ]
  },
  {
   "cell_type": "markdown",
   "metadata": {},
   "source": [
    "### Correlation between indices of model-basedness"
   ]
  },
  {
   "cell_type": "code",
   "execution_count": 3,
   "metadata": {},
   "outputs": [
    {
     "name": "stdout",
     "output_type": "stream",
     "text": [
      "rho = 0.17, p = 0.000\n"
     ]
    }
   ],
   "source": [
    "from scipy.stats import spearmanr\n",
    "\n",
    "rho, p = spearmanr(qdata[\"MB_MF_WAIC_diff\"], qdata[\"two_step_parameter\"])\n",
    "\n",
    "# Print rounded correlation coefficient and p-value.\n",
    "print(f\"rho = {rho:.2f}, p = {p:.3f}\")"
   ]
  },
  {
   "cell_type": "markdown",
   "metadata": {},
   "source": [
    "### Associations with transdiagnostic factors"
   ]
  },
  {
   "cell_type": "code",
   "execution_count": 4,
   "metadata": {},
   "outputs": [
    {
     "data": {
      "image/png": "[encoded data removed]",
      "text/plain": [
       "<Figure size 1000x216 with 8 Axes>"
      ]
     },
     "metadata": {},
     "output_type": "display_data"
    }
   ],
   "source": [
    "# Create transdiagnostic subdirectory if it does not exist\n",
    "if not os.path.exists(\"results/replication/symptom_models/transdiagnostic\"):\n",
    "    os.makedirs(\"results/replication/symptom_models/transdiagnostic\")\n",
    "\n",
    "# Parameters for the models and plots\n",
    "variables = [\n",
    "    \"MB_MF_WAIC_diff\",\n",
    "    \"MB_WAIC\",\n",
    "    \"MF_WAIC\",\n",
    "    \"transition_var\",\n",
    "    \"tau_prob\",\n",
    "    \"decay_prob\",\n",
    "    \"adjusted_confidence\",\n",
    "    \"two_step_parameter\"\n",
    "]\n",
    "titles = [\n",
    "    \"Model-free\\n- model-based\",\n",
    "    \"Model-based fit\",\n",
    "    \"Model-free fit\",\n",
    "    \"Transition\\nuncertainty\",\n",
    "    \"Transition\\nupdate rate\",\n",
    "    \"Decay rate\",\n",
    "    \"Confidence\",\n",
    "    \"Two step\\nmodel-basedness\"\n",
    "]\n",
    "\n",
    "# Add variables and titles to the variable rename dict\n",
    "variable_rename_dict.update(dict(zip(variables, titles)))\n",
    "\n",
    "# Create subplots\n",
    "f, ax = plt.subplots(1, 8, figsize=(12.5, 2.7), sharey=True)\n",
    "\n",
    "# Common regression formula\n",
    "formula = \"AD + Compul + SW + gender + age + motivation\"\n",
    "\n",
    "# Create an empty list to store model objects\n",
    "transdiagnostic_models = []\n",
    "\n",
    "# Create an empty list to store markdown tables\n",
    "transdiagnostic_markdown_tables = {}\n",
    "\n",
    "# Number of variables we're correcting for multiple comparisons across This is\n",
    "# our three main dependent variables (uncertainty, update rate,\n",
    "# model-basedness) We look at the others here as well, but they are not the\n",
    "# main focus, and we do not correct for multiple comparisons.\n",
    "n_variables = 3\n",
    "\n",
    "# Loop through the variables and corresponding titles, running regression and\n",
    "# plotting for each\n",
    "for i, (var, title) in enumerate(zip(variables, titles)):\n",
    "    # If dependent var is confidence, add performance metrics to formula\n",
    "    if var == \"adjusted_confidence\":\n",
    "        model_formula = formula + \" + bet_correct\"\n",
    "    else:\n",
    "        model_formula = formula\n",
    "\n",
    "    # Get the number of variables we're correcting across This should be 3 (as\n",
    "    # specified above) if we're looking at one of our Preregistered dependent\n",
    "    # variables, as the others don't really matter for these analyses\n",
    "    n_variables_model = (\n",
    "        n_variables\n",
    "        if var in [\"transition_var\", \"tau_prob\", \"MB_MF_WAIC_diff\"]\n",
    "        else 1\n",
    "    )\n",
    "\n",
    "    model, _ = run_regression_and_plot(\n",
    "        qdata,\n",
    "        var,\n",
    "        model_formula,\n",
    "        20000,\n",
    "        save_fig=False,\n",
    "        show_summary=False,\n",
    "        ax=ax[i],\n",
    "        forest_plot_kwargs={\n",
    "            \"exclude_param_names\": [\n",
    "                \"age\",\n",
    "                \"gender\",\n",
    "                \"motivation\",\n",
    "                \"bet_correct\",\n",
    "            ],\n",
    "            \"significance_thresholds\": {\n",
    "                0.001 / n_variables_model: \"***\",\n",
    "                0.01 / n_variables_model: \"**\",\n",
    "                0.05 / n_variables_model: \"*\",\n",
    "            },\n",
    "            \"alpha\": 0.05 / n_variables_model,\n",
    "        },\n",
    "    )\n",
    "\n",
    "    transdiagnostic_models.append(model)  # Store the model object\n",
    "\n",
    "    # Store the table in markdown form\n",
    "    transdiagnostic_markdown_tables[title] = ols_to_markdown_table(\n",
    "        model,\n",
    "        alpha_corr=0.05 / n_variables_model if n_variables_model > 1 else None,\n",
    "        predictor_rename_dict=variable_rename_dict,\n",
    "    )\n",
    "\n",
    "    # Set title for each subplot\n",
    "    ax[i].set_title(title)\n",
    "\n",
    "# Adjust y-axis limits.\n",
    "ax[0].set_ylim(-0.5, 0.5)\n",
    "\n",
    "# Remove y label from plots 1-4\n",
    "for i in range(1, 8):\n",
    "    ax[i].set_ylabel(\"\")\n",
    "\n",
    "# Tighten layout\n",
    "plt.tight_layout()\n",
    "\n",
    "# Combine results into a dataframe\n",
    "transdiagnostic_results = compile_ols_results(transdiagnostic_models)\n",
    "\n",
    "# Save the results to a csv file\n",
    "transdiagnostic_results.to_csv(\n",
    "    \"results/replication/symptom_models/transdiagnostic_results.csv\", index=False\n",
    ")"
   ]
  },
  {
   "cell_type": "markdown",
   "metadata": {},
   "source": [
    "### Check multicollinearity"
   ]
  },
  {
   "cell_type": "code",
   "execution_count": 5,
   "metadata": {},
   "outputs": [
    {
     "name": "stdout",
     "output_type": "stream",
     "text": [
      "AD            1.449348\n",
      "Compul        1.473281\n",
      "SW            1.411690\n",
      "gender        1.013021\n",
      "age           1.140803\n",
      "motivation    1.045623\n",
      "dtype: float64\n",
      "Condition number:  2.09319017750354\n"
     ]
    }
   ],
   "source": [
    "# This will be the same for all models as the design matrix is the same.\n",
    "# Get the design matrix without the intercept.\n",
    "X = transdiagnostic_models[0].model.data.orig_exog\n",
    "X = X.drop(\"Intercept\", axis=1)\n",
    "\n",
    "# Get the VIFs\n",
    "vifs = pd.Series(\n",
    "    [variance_inflation_factor(X.values, i) for i in range(X.shape[1])],\n",
    "    index=X.columns,\n",
    ")\n",
    "\n",
    "# Print the VIFs\n",
    "# Should be < 10 (or 5 ideally)\n",
    "print(vifs)\n",
    "\n",
    "# Condition number\n",
    "# Should be < 30\n",
    "condition_number = cond(X.values)\n",
    "print(\"Condition number: \", condition_number)"
   ]
  },
  {
   "cell_type": "markdown",
   "metadata": {},
   "source": [
    "### Associations with state anxiety/depression symptoms"
   ]
  },
  {
   "cell_type": "code",
   "execution_count": 6,
   "metadata": {},
   "outputs": [
    {
     "data": {
      "image/png": "[encoded data removed]",
      "text/plain": [
       "<Figure size 1000x216 with 8 Axes>"
      ]
     },
     "metadata": {},
     "output_type": "display_data"
    }
   ],
   "source": [
    "# Create transdiagnostic subdirectory if it does not exist\n",
    "if not os.path.exists(\"results/replication/symptom_models/dep_anx\"):\n",
    "    os.makedirs(\"results/replication/symptom_models/dep_anx\")\n",
    "\n",
    "# Create subplots\n",
    "f, ax = plt.subplots(1, 8, figsize=(12.5, 2.7), sharey=True)\n",
    "\n",
    "# Common regression formula\n",
    "formula = \"GAD_7 + PHQ_8 + gender + age + motivation\"\n",
    "\n",
    "# Create an empty list to store model objects\n",
    "anx_dep_models = []\n",
    "\n",
    "# Create an empty list to store markdown tables\n",
    "anx_dep_markdown_tables = {}\n",
    "\n",
    "# Loop through the variables and corresponding titles, running regression and\n",
    "# plotting for each\n",
    "for i, (var, title) in enumerate(zip(variables, titles)):\n",
    "    # If dependent var is confidence, add performance metrics to formula\n",
    "    if var == \"average_confidence\":\n",
    "        model_formula = formula + \" + bet_correct\"\n",
    "    else:\n",
    "        model_formula = formula\n",
    "\n",
    "    # Get the number of variables we're correcting across This should be 3 (as\n",
    "    # specified above) if we're looking at one of our Preregistered dependent\n",
    "    # variables, as the others don't really matter for these analyses\n",
    "    n_variables_model = (\n",
    "        n_variables\n",
    "        if var in [\"transition_var\", \"tau_prob\", \"MB_MF_WAIC_diff\"]\n",
    "        else 1\n",
    "    )\n",
    "\n",
    "    model, _ = run_regression_and_plot(\n",
    "        qdata,\n",
    "        var,\n",
    "        model_formula,\n",
    "        20000,\n",
    "        save_fig=False,\n",
    "        show_summary=False,\n",
    "        ax=ax[i],\n",
    "        forest_plot_kwargs={\n",
    "            \"exclude_param_names\": [\n",
    "                \"age\",\n",
    "                \"gender\",\n",
    "                \"motivation\",\n",
    "                \"bet_correct\",\n",
    "            ],\n",
    "            \"significance_thresholds\": {\n",
    "                0.001 / n_variables_model: \"***\",\n",
    "                0.01 / n_variables_model: \"**\",\n",
    "                0.05 / n_variables_model: \"*\",\n",
    "            },\n",
    "            \"alpha\": 0.05 / n_variables_model,\n",
    "        },\n",
    "    )\n",
    "\n",
    "    anx_dep_models.append(model)  # Store the model object\n",
    "\n",
    "    # Store the table in markdown form\n",
    "    anx_dep_markdown_tables[title] = ols_to_markdown_table(\n",
    "        model, alpha_corr=0.05 / 3, predictor_rename_dict=variable_rename_dict\n",
    "    )\n",
    "\n",
    "    # Set title for each subplot\n",
    "    ax[i].set_title(title, y=1.15)\n",
    "\n",
    "# Adjust y-axis limits.\n",
    "ax[0].set_ylim(-0.5, 0.5)\n",
    "\n",
    "# Remove y label from plots 1-4\n",
    "for i in range(1, 8):\n",
    "    ax[i].set_ylabel(\"\")\n",
    "\n",
    "# Tighten layout\n",
    "plt.tight_layout()\n",
    "\n",
    "# Combine results into a dataframe\n",
    "anx_dep_results = compile_ols_results(anx_dep_models)\n",
    "\n",
    "# Save the results to a csv file\n",
    "anx_dep_results.to_csv(\n",
    "    \"results/replication/symptom_models/anx_dep_results.csv\", index=False\n",
    ")"
   ]
  },
  {
   "cell_type": "markdown",
   "metadata": {},
   "source": [
    "## Mediation analysis\n",
    "\n",
    "### Transdiagnostic factors\n",
    "\n",
    "Here we use mediation analyses to test the hypothesis that the Compulsivity/Intrusive thought -> Transition variance relationship is mediated by the $\\tau_p$ (update rate) and $\\lambda_p$ (decay rate) parameters."
   ]
  },
  {
   "cell_type": "code",
   "execution_count": 7,
   "metadata": {},
   "outputs": [
    {
     "data": {
      "text/html": [
       "<div>\n",
       "<style scoped>\n",
       "    .dataframe tbody tr th:only-of-type {\n",
       "        vertical-align: middle;\n",
       "    }\n",
       "\n",
       "    .dataframe tbody tr th {\n",
       "        vertical-align: top;\n",
       "    }\n",
       "\n",
       "    .dataframe thead th {\n",
       "        text-align: right;\n",
       "    }\n",
       "</style>\n",
       "<table border=\"1\" class=\"dataframe\">\n",
       "  <thead>\n",
       "    <tr style=\"text-align: right;\">\n",
       "      <th></th>\n",
       "      <th>path</th>\n",
       "      <th>coef</th>\n",
       "      <th>se</th>\n",
       "      <th>pval</th>\n",
       "      <th>CI[2.5%]</th>\n",
       "      <th>CI[97.5%]</th>\n",
       "      <th>sig</th>\n",
       "    </tr>\n",
       "  </thead>\n",
       "  <tbody>\n",
       "    <tr>\n",
       "      <th>0</th>\n",
       "      <td>tau_prob ~ X</td>\n",
       "      <td>-0.090400</td>\n",
       "      <td>0.031767</td>\n",
       "      <td>4.500172e-03</td>\n",
       "      <td>-0.152721</td>\n",
       "      <td>-0.028080</td>\n",
       "      <td>Yes</td>\n",
       "    </tr>\n",
       "    <tr>\n",
       "      <th>1</th>\n",
       "      <td>decay_prob ~ X</td>\n",
       "      <td>-0.040757</td>\n",
       "      <td>0.033250</td>\n",
       "      <td>2.204959e-01</td>\n",
       "      <td>-0.105986</td>\n",
       "      <td>0.024471</td>\n",
       "      <td>No</td>\n",
       "    </tr>\n",
       "    <tr>\n",
       "      <th>2</th>\n",
       "      <td>Y ~ tau_prob</td>\n",
       "      <td>-0.819155</td>\n",
       "      <td>0.007934</td>\n",
       "      <td>0.000000e+00</td>\n",
       "      <td>-0.834719</td>\n",
       "      <td>-0.803590</td>\n",
       "      <td>Yes</td>\n",
       "    </tr>\n",
       "    <tr>\n",
       "      <th>3</th>\n",
       "      <td>Y ~ decay_prob</td>\n",
       "      <td>-0.361695</td>\n",
       "      <td>0.007599</td>\n",
       "      <td>3.184088e-288</td>\n",
       "      <td>-0.376603</td>\n",
       "      <td>-0.346787</td>\n",
       "      <td>Yes</td>\n",
       "    </tr>\n",
       "    <tr>\n",
       "      <th>4</th>\n",
       "      <td>Total</td>\n",
       "      <td>0.084011</td>\n",
       "      <td>0.031650</td>\n",
       "      <td>8.041224e-03</td>\n",
       "      <td>0.021921</td>\n",
       "      <td>0.146100</td>\n",
       "      <td>Yes</td>\n",
       "    </tr>\n",
       "    <tr>\n",
       "      <th>5</th>\n",
       "      <td>Direct</td>\n",
       "      <td>-0.004815</td>\n",
       "      <td>0.009086</td>\n",
       "      <td>5.962600e-01</td>\n",
       "      <td>-0.022639</td>\n",
       "      <td>0.013009</td>\n",
       "      <td>No</td>\n",
       "    </tr>\n",
       "    <tr>\n",
       "      <th>6</th>\n",
       "      <td>Indirect tau_prob</td>\n",
       "      <td>0.074080</td>\n",
       "      <td>0.025702</td>\n",
       "      <td>4.300000e-03</td>\n",
       "      <td>0.023610</td>\n",
       "      <td>0.124689</td>\n",
       "      <td>Yes</td>\n",
       "    </tr>\n",
       "    <tr>\n",
       "      <th>7</th>\n",
       "      <td>Indirect decay_prob</td>\n",
       "      <td>0.014745</td>\n",
       "      <td>0.012039</td>\n",
       "      <td>2.198000e-01</td>\n",
       "      <td>-0.008989</td>\n",
       "      <td>0.038215</td>\n",
       "      <td>No</td>\n",
       "    </tr>\n",
       "  </tbody>\n",
       "</table>\n",
       "</div>"
      ],
      "text/plain": [
       "                  path      coef        se           pval  CI[2.5%]  \\\n",
       "0         tau_prob ~ X -0.090400  0.031767   4.500172e-03 -0.152721   \n",
       "1       decay_prob ~ X -0.040757  0.033250   2.204959e-01 -0.105986   \n",
       "2         Y ~ tau_prob -0.819155  0.007934   0.000000e+00 -0.834719   \n",
       "3       Y ~ decay_prob -0.361695  0.007599  3.184088e-288 -0.376603   \n",
       "4                Total  0.084011  0.031650   8.041224e-03  0.021921   \n",
       "5               Direct -0.004815  0.009086   5.962600e-01 -0.022639   \n",
       "6    Indirect tau_prob  0.074080  0.025702   4.300000e-03  0.023610   \n",
       "7  Indirect decay_prob  0.014745  0.012039   2.198000e-01 -0.008989   \n",
       "\n",
       "   CI[97.5%]  sig  \n",
       "0  -0.028080  Yes  \n",
       "1   0.024471   No  \n",
       "2  -0.803590  Yes  \n",
       "3  -0.346787  Yes  \n",
       "4   0.146100  Yes  \n",
       "5   0.013009   No  \n",
       "6   0.124689  Yes  \n",
       "7   0.038215   No  "
      ]
     },
     "execution_count": 7,
     "metadata": {},
     "output_type": "execute_result"
    }
   ],
   "source": [
    "# Set up covariates\n",
    "covar = [\"AD\", \"SW\", \"age\", \"gender\", \"motivation\"]\n",
    "\n",
    "# Run the model\n",
    "mediation_analysis(\n",
    "    data=qdata,\n",
    "    x=\"Compul\",\n",
    "    m=[\"tau_prob\", \"decay_prob\"],\n",
    "    y=\"transition_var\",\n",
    "    covar=covar,\n",
    "    alpha=0.05,\n",
    "    seed=42,\n",
    "    n_boot=20000,\n",
    ")"
   ]
  },
  {
   "cell_type": "markdown",
   "metadata": {},
   "source": [
    "This indicates that the link between CIT and transition variance is fully mediated by the update and decay rates of the model. The total effect (X -> Y) is significant, but the direct effect (X -> Y) is not significant when controlling for the mediator (M). The indirect effects (X -> M -> Y) are significant."
   ]
  },
  {
   "cell_type": "markdown",
   "metadata": {},
   "source": [
    "Next, we test the hypothesis that the Compulsivity/Intrusive thought -> Model-basedness relationship is mediated by uncertainty about learnt state transitions."
   ]
  },
  {
   "cell_type": "code",
   "execution_count": 8,
   "metadata": {},
   "outputs": [],
   "source": [
    "# Set up covariates\n",
    "covar = [\"AD\", \"SW\", \"age\", \"gender\", \"motivation\"]\n",
    "\n",
    "# Run the model\n",
    "transdiagnostic_mediation_model = mediation_analysis(\n",
    "    data=qdata,\n",
    "    x=\"Compul\",\n",
    "    m=[\"transition_var\"],\n",
    "    y=\"MB_MF_WAIC_diff\",\n",
    "    covar=covar,\n",
    "    alpha=0.05,\n",
    "    seed=42,\n",
    "    n_boot=20000,\n",
    ")\n",
    "\n",
    "# Create a markdown table\n",
    "transdiagnostic_mediation_table = mediation_analysis_to_markdown_table(\n",
    "    transdiagnostic_mediation_model, variable_rename_dict=variable_rename_dict\n",
    ")"
   ]
  },
  {
   "cell_type": "markdown",
   "metadata": {},
   "source": [
    "Again, this indicates that the relationship is fully mediated by uncertainty about state transitions."
   ]
  },
  {
   "cell_type": "markdown",
   "metadata": {},
   "source": [
    "### State anxiety (GAD-7)\n",
    "\n",
    "We now do the same for state anxiety, as measured by the GAD-7 questionnaire.\n"
   ]
  },
  {
   "cell_type": "code",
   "execution_count": 9,
   "metadata": {},
   "outputs": [],
   "source": [
    "# Set up covariates\n",
    "covar = [\"PHQ_8\", \"AD\", \"age\", \"gender\", \"motivation\"]\n",
    "\n",
    "# Run the model\n",
    "anx_mediation_model = mediation_analysis(\n",
    "    data=qdata,\n",
    "    x=\"GAD_7\",\n",
    "    m=[\"tau_prob\"],\n",
    "    y=\"transition_var\",\n",
    "    covar=covar,\n",
    "    alpha=0.05,\n",
    "    seed=42,\n",
    "    n_boot=20000,\n",
    ")\n",
    "\n",
    "# Create a markdown table\n",
    "anx_mediation_table = mediation_analysis_to_markdown_table(\n",
    "    anx_mediation_model, variable_rename_dict=variable_rename_dict\n",
    ")"
   ]
  },
  {
   "cell_type": "markdown",
   "metadata": {},
   "source": [
    "### State depression (PHQ-8)\n",
    "\n",
    "And finally, we do the same for state depression, as measured by the PHQ-8 questionnaire."
   ]
  },
  {
   "cell_type": "code",
   "execution_count": 10,
   "metadata": {},
   "outputs": [],
   "source": [
    "# Set up covariates\n",
    "covar = [\"GAD_7\", \"AD\", \"age\", \"gender\", \"motivation\"]\n",
    "\n",
    "# Run the model\n",
    "dep_mediation_model = mediation_analysis(\n",
    "    data=qdata,\n",
    "    x=\"PHQ_8\",\n",
    "    m=[\"tau_prob\"],\n",
    "    y=\"transition_var\",\n",
    "    covar=covar,\n",
    "    alpha=0.05,\n",
    "    seed=42,\n",
    "    n_boot=20000,\n",
    ")\n",
    "\n",
    "# Create a markdown table\n",
    "dep_mediation_table = mediation_analysis_to_markdown_table(\n",
    "    dep_mediation_model, variable_rename_dict=variable_rename_dict\n",
    ")"
   ]
  },
  {
   "cell_type": "markdown",
   "metadata": {},
   "source": [
    "## Save markdown tables\n",
    "\n",
    "We save the tables as markdown files for easy inclusion in the manuscript."
   ]
  },
  {
   "cell_type": "code",
   "execution_count": 11,
   "metadata": {},
   "outputs": [
    {
     "name": "stdout",
     "output_type": "stream",
     "text": [
      "Appending to existing file: paper/supplementary_tables.md\n",
      "Conversion to PDF completed successfully.\n",
      "Conversion to docx completed successfully.\n"
     ]
    }
   ],
   "source": [
    "all_tables = {\n",
    "    \"transdiagnostic\": transdiagnostic_markdown_tables,\n",
    "    \"transdiagnostic_mediation\": {\n",
    "        \"compulsivity and intrusive thought;transition uncertainty;\"\n",
    "        \"model-basedness\": transdiagnostic_mediation_table\n",
    "    },\n",
    "    \"anx_dep\": anx_dep_markdown_tables,\n",
    "    \"anx_mediation\": {\n",
    "        \"anxiety;transition uncertainty;model-basedness\": transdiagnostic_mediation_table,\n",
    "        \"depression;transition uncertainty;model-basedness\": transdiagnostic_mediation_table,\n",
    "    },\n",
    "}\n",
    "\n",
    "caption_and_save_markdown_tables(\n",
    "    all_tables, \"replication\", \"paper/supplementary_tables.md\", append=True\n",
    ")"
   ]
  }
 ],
 "metadata": {
  "kernelspec": {
   "display_name": "tu_test_env",
   "language": "python",
   "name": "tu_test_env"
  },
  "language_info": {
   "codemirror_mode": {
    "name": "ipython",
    "version": 3
   },
   "file_extension": ".py",
   "mimetype": "text/x-python",
   "name": "python",
   "nbconvert_exporter": "python",
   "pygments_lexer": "ipython3",
   "version": "3.9.19"
  }
 },
 "nbformat": 4,
 "nbformat_minor": 2
}
