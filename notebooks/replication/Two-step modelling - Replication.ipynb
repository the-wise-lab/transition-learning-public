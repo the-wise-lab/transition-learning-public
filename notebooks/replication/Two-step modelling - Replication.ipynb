{
 "cells": [
  {
   "cell_type": "markdown",
   "metadata": {},
   "source": [
    "# Two-step task logistic regression analysis - Replication sample\n",
    "\n",
    "## Analysis overview\n",
    "\n",
    "#### Discovery sample\n",
    "\n",
    "1. Model fitting: [`Model fitting - Discovery.ipynb`](<../../notebooks/discovery/Model fitting - Discovery.ipynb>)\n",
    "2. Confidence analysis: [`Confidence analysis - Discovery.ipynb`](<../../notebooks/discovery/Confidence analysis - Discovery.ipynb>)\n",
    "3. Transdiagnostic factor estimation: [`Transdiagnostic factors - Discovery.ipynb`](<../../notebooks/discovery/Transdiagnostic factors - Discovery.ipynb>)\n",
    "4. Symptom-behaviour analyses: [`Symptom analyses - Discovery.ipynb`](<../../notebooks/discovery/Symptom analyses - Discovery.ipynb>)\n",
    "\n",
    "#### Replication sample\n",
    "\n",
    "1. Model fitting: [`Model fitting - Replication.ipynb`](<../../notebooks/replication/Model fitting - Replication.ipynb>)\n",
    "2. Confidence analysis: [`Confidence analysis - Replication.ipynb`](<../../notebooks/replication/Confidence analysis - Replication.ipynb>)\n",
    "3. **⭐ Two-step task analysis: [`Two-step modelling - Replication.ipynb`](<../../notebooks/replication/Two-step modelling - Replication.ipynb>)** ⭐\n",
    "4. Transdiagnostic factor estimation: [`Transdiagnostic factors - Replication.ipynb`](<../../notebooks/replication/Transdiagnostic factors - Replication.ipynb>)\n",
    "5. Symptom-behaviour analyses: [`Symptom analyses - Replication.ipynb`](<../../notebooks/replication/Symptom analyses - Replication.ipynb>)\n",
    "\n",
    "#### Test-retest sample\n",
    "\n",
    "1. Model-fitting: [`Model fitting - Retest.ipynb`](<../../notebooks/retest/Model fitting - Retest.ipynb>)\n",
    "2. Two-step modelling: [`Two-step modelling - Retest.ipynb`](<../../notebooks/retest/Two-step modelling - Retest.ipynb>)\n",
    "3. Test-retest reliability analyses: [`Test-retest - Retest.ipynb`](<../../notebooks/retest/Test-retest - Retest.ipynb>)\n",
    "\n",
    "#### Follow-up sample\n",
    "\n",
    "1. Model fitting: [`Model fitting - Follow up.ipynb`](<../../notebooks/follow-up/Model fitting - Follow up.ipynb>)\n",
    "2. Transdiagnostic factor estimation: [`Transdiagnostic factors - Follow up.ipynb`](<../../notebooks/follow-up/Transdiagnostic factors - Follow up.ipynb>)\n",
    "3. Test-retest reliability analyses: [`Test-retest - Follow up.ipynb`](<../../notebooks/follow-up/Test-retest - Follow up.ipynb>)\n",
    "4. Longitudinal analyses: [`Longitudinal analyses - Follow up.ipynb`](<../../notebooks/follow-up/Longitudinal analyses - Follow up.ipynb>)\n",
    "\n",
    "#### Follow-up sample (1 year)\n",
    "\n",
    "1. Model fitting: [`Model fitting - Follow up 1yr.ipynb`](<../../notebooks/follow-up-1yr/Model fitting - Follow up 1yr.ipynb>)\n",
    "2. Transdiagnostic factor estimation: [`Transdiagnostic factors - Follow up 1yr.ipynb`](<../../notebooks/follow-up-1yr/Transdiagnostic factors - Follow up 1yr.ipynb>)\n",
    "3. Test-retest reliability analyses: [`Test-retest - Follow up 1yr.ipynb`](<../../notebooks/follow-up-1yr/Test-retest - Follow up 1yr.ipynb>)\n",
    "4. Longitudinal analyses: [`Longitudinal analyses -  Follow up 1yr.ipynb`](<../../notebooks/follow-up-1yr/Longitudinal analyses - Follow up 1yr.ipynb>)\n",
    "\n",
    "## Notebook overview\n",
    "\n",
    "\n",
    "This notebook runs a logistic regression model on the two-step task data. This enables us to quantify the extent to which each participant's behaviour is guided by model-based versus model-free strategies.\n"
   ]
  },
  {
   "cell_type": "markdown",
   "metadata": {},
   "source": [
    "## Imports\n"
   ]
  },
  {
   "cell_type": "code",
   "execution_count": 1,
   "metadata": {},
   "outputs": [
    {
     "name": "stderr",
     "output_type": "stream",
     "text": [
      "/scratch/users/user/miniconda3/envs/tu_test_env/lib/python3.9/site-packages/tqdm/auto.py:21: TqdmWarning: IProgress not found. Please update jupyter and ipywidgets. See https://ipywidgets.readthedocs.io/en/stable/user_install.html\n",
      "  from .autonotebook import tqdm as notebook_tqdm\n",
      "WARNING (pytensor.tensor.blas): Using NumPy C-API based implementation for BLAS functions.\n",
      "/users/user/.local/lib/python3.9/site-packages/outdated/utils.py:14: OutdatedPackageWarning: The package pingouin is out of date. Your version is 0.5.3, the latest is 0.5.4.\n",
      "Set the environment variable OUTDATED_IGNORE=1 to disable these warnings.\n",
      "  return warn(\n"
     ]
    },
    {
     "name": "stdout",
     "output_type": "stream",
     "text": [
      "Font Heebo already available in Matplotlib.\n",
      "Matplotlib style set to: style.mplstyle with font Heebo\n"
     ]
    }
   ],
   "source": [
    "# Make sure we use the CPU\n",
    "import os\n",
    "\n",
    "os.environ[\"JAX_PLATFORMS\"] = \"cpu\"\n",
    "\n",
    "import numpyro\n",
    "\n",
    "numpyro.set_host_device_count(\n",
    "    4\n",
    ")  # Set this to the number of cores you want to use\n",
    "import arviz as az\n",
    "import bambi as bmb\n",
    "import matplotlib.pyplot as plt\n",
    "import numpy as np\n",
    "import pandas as pd\n",
    "import seaborn as sns\n",
    "\n",
    "from stats_utils.bayesian.utils import arviz_to_markdown_table\n",
    "from transition_uncertainty.style import set_style\n",
    "from transition_uncertainty.utils import (\n",
    "    check_directories,\n",
    "    save_markdown_tables,\n",
    ")\n",
    "\n",
    "set_style(\"style.mplstyle\")\n",
    "\n",
    "# Raise an error if we're not in the root directory by checking if the data folder exists\n",
    "check_directories()\n",
    "\n",
    "# Make sure we use the CPU\n",
    "import jax\n",
    "\n",
    "assert (\n",
    "    str(list(jax.numpy.ones(3).devices())[0]) == \"TFRT_CPU_0\"\n",
    "), \"CPU not being used by Jax - this is wrong\""
   ]
  },
  {
   "cell_type": "markdown",
   "metadata": {},
   "source": [
    "## Load data\n"
   ]
  },
  {
   "cell_type": "code",
   "execution_count": 2,
   "metadata": {},
   "outputs": [
    {
     "name": "stdout",
     "output_type": "stream",
     "text": [
      "Number of subjects: 1400\n"
     ]
    }
   ],
   "source": [
    "task_df = pd.read_csv(\"data/task/replication/cannonball-twostep_task_data.csv\")\n",
    "\n",
    "# Print number of subjects\n",
    "print(f\"Number of subjects: {len(task_df.subjectID.unique())}\")"
   ]
  },
  {
   "cell_type": "markdown",
   "metadata": {},
   "source": [
    "## Reformat the data\n",
    "\n",
    "This code performs several transformations on the `task_df` DataFrame, which contains data from a task involving trials where subjects respond to stimuli:\n",
    "\n",
    "1. **Sorting the DataFrame**: The DataFrame is sorted by 'subjectID' and 'trial' to ensure all trials for a given subject are grouped together and in the correct sequence.\n",
    "\n",
    "2. **Creating the 'stay' column**: A new column 'stay' is created to indicate whether the subject's response on a given trial was the same as their response on the previous trial. This is achieved by shifting the 'response' column up by one row and comparing it to the original 'response' column. The result is a series of 1s (for True) and 0s (for False).\n",
    "\n",
    "3. **Dropping the last trial for each subject**: The last trial for each subject is dropped, as the 'stay' column for these trials is not meaningful (there is no next trial to compare to).\n",
    "\n",
    "4. **Creating the 'rewarded' column**: A new column 'rewarded' is created as the opposite of the 'exploded' column. A reward is coded as 1 and a penalty (exploded) is coded as -1.\n",
    "\n",
    "5. **Creating the 'common' column**: A new column 'common' is created to indicate whether the subject's response was 'common' or 'rare', based on the color of the ball in the trial. If the ball was pink and the response was 1, or if the ball was purple and the response was 2, this is considered 'common' and coded as 1. Otherwise, it's considered 'rare' and coded as -1.\n"
   ]
  },
  {
   "cell_type": "code",
   "execution_count": 3,
   "metadata": {},
   "outputs": [],
   "source": [
    "# Create new column called \"stay\", which is 1 if the response is the same as\n",
    "# the previous trial, and 0 otherwise \n",
    "# First, sort the DataFrame by subjectID\n",
    "# and trial to ensure the order is correct\n",
    "task_df = task_df.sort_values(by=[\"subjectID\", \"trial\"])\n",
    "\n",
    "# Create the 'stay' column by comparing the current response with the next\n",
    "# response\n",
    "task_df[\"stay\"] = (\n",
    "    task_df.groupby(\"subjectID\")[\"response\"].shift(-1) == task_df[\"response\"]\n",
    ")\n",
    "\n",
    "# Drop the last trial for each subject\n",
    "task_df = (\n",
    "    task_df.groupby(\"subjectID\")\n",
    "    .apply(lambda x: x.iloc[:-1])\n",
    "    .reset_index(drop=True)\n",
    ")\n",
    "\n",
    "# Optional: Convert True/False in 'stay' column to 1/0\n",
    "task_df[\"stay\"] = task_df[\"stay\"].astype(int)\n",
    "\n",
    "\n",
    "# Create a reward column - the opposite of \"exploded\", coded as -1 if exploded,\n",
    "# and 1 if not\n",
    "task_df[\"rewarded\"] = (\n",
    "    task_df[\"exploded\"].replace({False: 1, True: -1}).astype(int)\n",
    ")\n",
    "\n",
    "# Create a common/rare column: If ballColour is pink and response is 1, or\n",
    "# ballColour is purple and response is 2, then common = 1\n",
    "# If ballColour is pink and response is 2, or ballColour is purple and response\n",
    "# is 1, then common = -1\n",
    "task_df[\"common\"] = (\n",
    "    (task_df[\"ballColour\"] == \"pink\") & (task_df[\"response\"] == 1)\n",
    "    | (task_df[\"ballColour\"] == \"purple\") & (task_df[\"response\"] == 2)\n",
    ").astype(int)\n",
    "task_df[\"common\"] = task_df[\"common\"].replace({0: -1})"
   ]
  },
  {
   "cell_type": "markdown",
   "metadata": {},
   "source": [
    "## Plot behaviour\n",
    "\n",
    "This code generates a categorical bar plot using Seaborn's `catplot` function. The plot is based on data from `task_df` and plots the probability of staying with the same option according to the outcome on the previous trial (rewarded or not), and whether it was a common or rare transtiion.\n",
    "\n",
    "We should see a clear interaction here, where people are more likely to stay with the same option if it was rewarded and common, or if it was unrewarded and uncommon, versus unrewarded and common or rewarded and uncommon. This is a hallmark of model-based behaviour in the task.\n",
    "\n",
    "1. **Creating a new DataFrame with cleaner column names**: A copy of the `task_df` DataFrame is made and the column names are renamed for better readability in the plot. The 'rewarded' column is renamed to 'Rewarded', the 'common' column is renamed to 'Transition', and the 'stay' column is renamed to 'P(Stay)'.\n",
    "\n",
    "2. **Replacing numerical values with descriptive labels**: The numerical values in the 'Rewarded' and 'Transition' columns are replaced with more descriptive labels. In the 'Rewarded' column, 1 is replaced with 'Unrewarded' and -1 is replaced with 'Rewarded'. In the 'Transition' column, 1 is replaced with 'Common' and -1 is replaced with 'Rare'.\n",
    "\n",
    "3. **Creating a bar plot**: A bar plot is created using seaborn's `catplot` function. The x-axis represents whether the trial was rewarded or not, the y-axis represents the proportion of 'stay' choices, and different colors represent whether the transition was common or rare. The bars have black outlines and error bars with caps.\n",
    "\n",
    "4. **Limiting the y-axis range**: The range of the y-axis is limited to 0.5-0.8 for better visualization of the differences between the bars.\n"
   ]
  },
  {
   "cell_type": "code",
   "execution_count": 4,
   "metadata": {},
   "outputs": [
    {
     "data": {
      "text/plain": [
       "(0.5, 0.8)"
      ]
     },
     "execution_count": 4,
     "metadata": {},
     "output_type": "execute_result"
    },
    {
     "data": {
      "image/png": "[encoded data removed]",
      "text/plain": [
       "<Figure size 285.5x200 with 1 Axes>"
      ]
     },
     "metadata": {},
     "output_type": "display_data"
    }
   ],
   "source": [
    "# Create a new dataframe with cleaner column names for plotting\n",
    "task_df_plot = task_df.copy().rename(\n",
    "    columns={\"rewarded\": \"Rewarded\", \"common\": \"Transition\", \"stay\": \"P(Stay)\"}\n",
    ")\n",
    "task_df_plot[\"Rewarded\"] = task_df_plot[\"Rewarded\"].replace(\n",
    "    {1: \"Rewarded\", -1: \"Unrewarded\"}\n",
    ")\n",
    "task_df_plot[\"Transition\"] = task_df_plot[\"Transition\"].replace(\n",
    "    {1: \"Common\", -1: \"Rare\"}\n",
    ")\n",
    "\n",
    "# Plot the proportion of stay choices for rewarded and unrewarded trials\n",
    "sns.catplot(\n",
    "    x=\"Rewarded\",\n",
    "    y=\"P(Stay)\",\n",
    "    hue=\"Transition\",\n",
    "    data=task_df_plot,\n",
    "    kind=\"bar\",\n",
    "    order=[\"Rewarded\", \"Unrewarded\"],\n",
    "    hue_order=[\"Common\", \"Rare\"],\n",
    "    edgecolor=\"black\",\n",
    "    capsize=0.1,\n",
    "    height=2.5,\n",
    ")\n",
    "\n",
    "# Limit y axis to 0.5-1\n",
    "plt.ylim(0.5, 0.8)"
   ]
  },
  {
   "cell_type": "markdown",
   "metadata": {},
   "source": [
    "## Run a hierarchical logistic regression model\n",
    "\n",
    "The code involves data preprocessing and fitting a Bayesian hierarchical logistic regression model using the `bmb.Model` function.\n",
    "\n",
    "1. **Data Preprocessing**:\n",
    "\n",
    "    - `task_df['subjectID'] = task_df['subjectID'].astype('category')`: Converts the 'subjectID' column in `task_df` to a categorical variable. This is done to ensure that the 'subjectID' column is treated as a grouping variable in the model.\n",
    "\n",
    "2. **Building the Model**:\n",
    "\n",
    "    - `model = bmb.Model(...)`: Creates a Bayesian hierarchical logistic regression model. The model formula is specified within the function.\n",
    "        - `'stay ~ 1 + rewarded + (rewarded|subjectID) + common + (common|subjectID) + rewarded:common + (rewarded:common|subjectID)'`: This formula sets 'stay' as the dependent variable. It includes fixed effects (`rewarded`, `common`, and their interaction `rewarded:common`) and random effects ((`rewarded|subjectID`), (`common|subjectID`), and (`rewarded:common|subjectID`)) which allow the effects of `rewarded` and `common` to vary across different `subjectID`s.\n",
    "        - `data=task_df`: Uses `task_df` as the dataset for the model.\n",
    "        - `family='bernoulli'`: Indicates that the dependent variable is binary (Bernoulli distribution), which is typical for logistic regression.\n",
    "\n",
    "3. **Fitting the Model**:\n",
    "    - `results = model.fit()`: Fits the model to the data. The fitted model is stored in `results`. This process involves estimating the parameters of the model based on the provided data.\n"
   ]
  },
  {
   "cell_type": "code",
   "execution_count": 5,
   "metadata": {},
   "outputs": [
    {
     "name": "stderr",
     "output_type": "stream",
     "text": [
      "Modeling the probability that stay==1\n",
      "Compiling.. :   0%|                                                                                                                                      | 0/10000 [00:00<?, ?it/s]\n",
      "\u001b[A\n",
      "\u001b[A\n",
      "\n",
      "\u001b[A\u001b[A\n",
      "\n",
      "\u001b[A\u001b[A\n",
      "\n",
      "Running chain 0:   0%|                                                                                                                                   | 0/10000 [00:04<?, ?it/s]\n",
      "Running chain 0:   5%|█████▉                                                                                                                 | 500/10000 [06:06<1:54:36,  1.38it/s]\n",
      "\u001b[A\n",
      "\n",
      "Running chain 0:  10%|████████████                                                                                                            | 1000/10000 [07:30<59:33,  2.52it/s]\n",
      "\u001b[A\n",
      "\n",
      "Running chain 0:  15%|██████████████████                                                                                                      | 1500/10000 [08:50<40:55,  3.46it/s]\n",
      "\u001b[A\n",
      "\n",
      "Running chain 0:  20%|████████████████████████                                                                                                | 2000/10000 [10:10<31:44,  4.20it/s]\n",
      "\u001b[A\n",
      "\n",
      "Running chain 0:  25%|██████████████████████████████                                                                                          | 2500/10000 [11:26<25:52,  4.83it/s]\n",
      "\u001b[A\n",
      "\n",
      "Running chain 0:  30%|████████████████████████████████████                                                                                    | 3000/10000 [12:42<21:57,  5.31it/s]\n",
      "\u001b[A\n",
      "\n",
      "Running chain 0:  35%|██████████████████████████████████████████                                                                              | 3500/10000 [13:58<19:04,  5.68it/s]\n",
      "\u001b[A\n",
      "\n",
      "Running chain 0:  40%|████████████████████████████████████████████████                                                                        | 4000/10000 [15:14<16:50,  5.94it/s]\n",
      "\u001b[A\n",
      "\n",
      "Running chain 0:  45%|██████████████████████████████████████████████████████                                                                  | 4500/10000 [16:29<14:56,  6.13it/s]\n",
      "\u001b[A\n",
      "\n",
      "Running chain 0:  50%|████████████████████████████████████████████████████████████                                                            | 5000/10000 [17:45<13:17,  6.27it/s]\n",
      "\u001b[A\n",
      "\n",
      "Running chain 0:  55%|██████████████████████████████████████████████████████████████████                                                      | 5500/10000 [19:02<11:49,  6.35it/s]\n",
      "\u001b[A\n",
      "\n",
      "Running chain 0:  60%|████████████████████████████████████████████████████████████████████████                                                | 6000/10000 [20:18<10:23,  6.41it/s]\n",
      "\u001b[A\n",
      "\n",
      "Running chain 0:  65%|██████████████████████████████████████████████████████████████████████████████                                          | 6500/10000 [21:33<09:00,  6.47it/s]\n",
      "\u001b[A\n",
      "\n",
      "Running chain 0:  70%|████████████████████████████████████████████████████████████████████████████████████                                    | 7000/10000 [22:49<07:41,  6.50it/s]\n",
      "\u001b[A\n",
      "\n",
      "Running chain 0:  75%|██████████████████████████████████████████████████████████████████████████████████████████                              | 7500/10000 [24:05<06:22,  6.54it/s]\n",
      "\u001b[A\n",
      "\n",
      "Running chain 0:  80%|████████████████████████████████████████████████████████████████████████████████████████████████                        | 8000/10000 [25:20<05:04,  6.57it/s]\n",
      "\u001b[A\n",
      "\n",
      "Running chain 0:  85%|██████████████████████████████████████████████████████████████████████████████████████████████████████                  | 8500/10000 [26:35<03:47,  6.59it/s]\n",
      "\u001b[A\n",
      "\n",
      "Running chain 0:  90%|████████████████████████████████████████████████████████████████████████████████████████████████████████████            | 9000/10000 [27:50<02:31,  6.61it/s]\n",
      "\u001b[A\n",
      "\n",
      "Running chain 0:  95%|██████████████████████████████████████████████████████████████████████████████████████████████████████████████████      | 9500/10000 [29:06<01:15,  6.61it/s]\n",
      "\u001b[A\n",
      "\n",
      "Running chain 0: 100%|███████████████████████████████████████████████████████████████████████████████████████████████████████████████████████| 10000/10000 [30:22<00:00,  6.60it/s]\n",
      "\u001b[A\n",
      "\n",
      "Running chain 0: 100%|███████████████████████████████████████████████████████████████████████████████████████████████████████████████████████| 10000/10000 [30:51<00:00,  5.40it/s]\n",
      "Running chain 1: 100%|███████████████████████████████████████████████████████████████████████████████████████████████████████████████████████| 10000/10000 [30:51<00:00,  5.40it/s]\n",
      "Running chain 2: 100%|███████████████████████████████████████████████████████████████████████████████████████████████████████████████████████| 10000/10000 [30:51<00:00,  5.40it/s]\n",
      "Running chain 3: 100%|███████████████████████████████████████████████████████████████████████████████████████████████████████████████████████| 10000/10000 [30:51<00:00,  5.40it/s]\n"
     ]
    }
   ],
   "source": [
    "# Ensure 'subjectID' is treated as a categorical variable\n",
    "task_df[\"subjectID\"] = task_df[\"subjectID\"].astype(\"category\")\n",
    "\n",
    "# Building the Bayesian hierarchical logistic regression model\n",
    "model = bmb.Model(\n",
    "    \"stay ~ 1 + (1|subjectID) + rewarded + (rewarded|subjectID) + common + \"\n",
    "    \"(common|subjectID) + rewarded:common + (rewarded:common|subjectID)\",\n",
    "    data=task_df,\n",
    "    family=\"bernoulli\",\n",
    ")\n",
    "\n",
    "# Fitting the model\n",
    "results = model.fit(\n",
    "    draws=8000,\n",
    "    tune=2000,\n",
    "    chains=4,\n",
    "    random_seed=42,\n",
    "    target_accept=0.85,\n",
    "    inference_method=\"nuts_numpyro\",\n",
    ")\n",
    "\n",
    "# Store the markdown table in a variable\n",
    "results_table = arviz_to_markdown_table(\n",
    "    results,\n",
    "    var_names=[\"common\", \"rewarded\", \"rewarded:common\"],\n",
    "    predictor_rename_dict={\n",
    "        \"common\": \"Transition\",\n",
    "        \"rewarded\": \"Rewarded\",\n",
    "        \"rewarded:common\": \"Rewarded x Transition\",\n",
    "    },\n",
    ")"
   ]
  },
  {
   "cell_type": "markdown",
   "metadata": {},
   "source": [
    "### Print a summary of the group-level effects\n",
    "\n",
    "A positive `rewarded:common` effect indicates that people are in general using a model-based strategy.\n"
   ]
  },
  {
   "cell_type": "code",
   "execution_count": 6,
   "metadata": {},
   "outputs": [
    {
     "data": {
      "text/html": [
       "<div>\n",
       "<style scoped>\n",
       "    .dataframe tbody tr th:only-of-type {\n",
       "        vertical-align: middle;\n",
       "    }\n",
       "\n",
       "    .dataframe tbody tr th {\n",
       "        vertical-align: top;\n",
       "    }\n",
       "\n",
       "    .dataframe thead th {\n",
       "        text-align: right;\n",
       "    }\n",
       "</style>\n",
       "<table border=\"1\" class=\"dataframe\">\n",
       "  <thead>\n",
       "    <tr style=\"text-align: right;\">\n",
       "      <th></th>\n",
       "      <th>mean</th>\n",
       "      <th>sd</th>\n",
       "      <th>hdi_2.5%</th>\n",
       "      <th>hdi_97.5%</th>\n",
       "      <th>mcse_mean</th>\n",
       "      <th>mcse_sd</th>\n",
       "      <th>ess_bulk</th>\n",
       "      <th>ess_tail</th>\n",
       "      <th>r_hat</th>\n",
       "    </tr>\n",
       "  </thead>\n",
       "  <tbody>\n",
       "    <tr>\n",
       "      <th>common</th>\n",
       "      <td>0.020</td>\n",
       "      <td>0.011</td>\n",
       "      <td>-0.000</td>\n",
       "      <td>0.041</td>\n",
       "      <td>0.0</td>\n",
       "      <td>0.0</td>\n",
       "      <td>38267.561</td>\n",
       "      <td>24645.688</td>\n",
       "      <td>1.0</td>\n",
       "    </tr>\n",
       "    <tr>\n",
       "      <th>rewarded</th>\n",
       "      <td>0.416</td>\n",
       "      <td>0.021</td>\n",
       "      <td>0.375</td>\n",
       "      <td>0.456</td>\n",
       "      <td>0.0</td>\n",
       "      <td>0.0</td>\n",
       "      <td>7439.279</td>\n",
       "      <td>14323.636</td>\n",
       "      <td>1.0</td>\n",
       "    </tr>\n",
       "    <tr>\n",
       "      <th>rewarded:common</th>\n",
       "      <td>0.118</td>\n",
       "      <td>0.013</td>\n",
       "      <td>0.093</td>\n",
       "      <td>0.143</td>\n",
       "      <td>0.0</td>\n",
       "      <td>0.0</td>\n",
       "      <td>23339.920</td>\n",
       "      <td>24411.891</td>\n",
       "      <td>1.0</td>\n",
       "    </tr>\n",
       "  </tbody>\n",
       "</table>\n",
       "</div>"
      ],
      "text/plain": [
       "                  mean     sd  hdi_2.5%  hdi_97.5%  mcse_mean  mcse_sd  \\\n",
       "common           0.020  0.011    -0.000      0.041        0.0      0.0   \n",
       "rewarded         0.416  0.021     0.375      0.456        0.0      0.0   \n",
       "rewarded:common  0.118  0.013     0.093      0.143        0.0      0.0   \n",
       "\n",
       "                  ess_bulk   ess_tail  r_hat  \n",
       "common           38267.561  24645.688    1.0  \n",
       "rewarded          7439.279  14323.636    1.0  \n",
       "rewarded:common  23339.920  24411.891    1.0  "
      ]
     },
     "execution_count": 6,
     "metadata": {},
     "output_type": "execute_result"
    }
   ],
   "source": [
    "az.summary(\n",
    "    results,\n",
    "    hdi_prob=0.95,\n",
    "    var_names=[\"common\", \"rewarded\", \"rewarded:common\"],\n",
    "    round_to=3,\n",
    ")"
   ]
  },
  {
   "cell_type": "markdown",
   "metadata": {},
   "source": [
    "### Get the subject-level interaction effects\n",
    "\n",
    "The subject-level `rewarded:common` effects indicate the extent to which each subject's behaviour is guided by model-based versus model-free strategies. Note that this is relative to the group-level effect, and so the mean is 0.\n"
   ]
  },
  {
   "cell_type": "code",
   "execution_count": 7,
   "metadata": {},
   "outputs": [
    {
     "data": {
      "image/png": "[encoded data removed]",
      "text/plain": [
       "<Figure size 280x240 with 1 Axes>"
      ]
     },
     "metadata": {},
     "output_type": "display_data"
    }
   ],
   "source": [
    "subject_effects = (\n",
    "    results.posterior[\"rewarded:common|subjectID\"]\n",
    "    .stack(draws=[\"draw\", \"chain\"])\n",
    "    .mean(dim=\"draws\")\n",
    ")\n",
    "\n",
    "# Create figure\n",
    "plt.figure(figsize=(3.5, 3))\n",
    "\n",
    "# Plot as a histogram with black outline\n",
    "plt.hist(subject_effects, edgecolor=\"black\", bins=15)\n",
    "\n",
    "# Update labels\n",
    "plt.xlabel(\"Model-basedness\")\n",
    "plt.ylabel(\"Frequency\")\n",
    "\n",
    "# Remove top and right spines\n",
    "sns.despine()"
   ]
  },
  {
   "cell_type": "markdown",
   "metadata": {},
   "source": [
    "### Export to CSV\n",
    "\n",
    "Finally we save the results for further analyses.\n"
   ]
  },
  {
   "cell_type": "code",
   "execution_count": 8,
   "metadata": {},
   "outputs": [],
   "source": [
    "# Create a dataframe\n",
    "subject_effects_df = pd.DataFrame(subject_effects, columns=[\"parameter\"])\n",
    "\n",
    "# Add a column for subjectID\n",
    "subject_effects_df[\"subjectID\"] = task_df[\"subjectID\"].unique()\n",
    "\n",
    "# Create the output directory if it doesnt exist\n",
    "if not os.path.exists(\"results/replication/two-step_model-fit\"):\n",
    "    os.makedirs(\"results/replication/two-step_model-fit\")\n",
    "\n",
    "# Save to CSV\n",
    "subject_effects_df.to_csv(\n",
    "    \"results/replication/two-step_model-fit/twostep_subject_effects.csv\",\n",
    "    index=False,\n",
    ")"
   ]
  },
  {
   "cell_type": "markdown",
   "metadata": {},
   "source": [
    "### Save results tables as Markdown"
   ]
  },
  {
   "cell_type": "code",
   "execution_count": 9,
   "metadata": {},
   "outputs": [
    {
     "name": "stdout",
     "output_type": "stream",
     "text": [
      "Creating or overwriting file: paper/supplementary_tables.md\n",
      "Conversion to PDF completed successfully.\n",
      "Conversion to docx completed successfully.\n"
     ]
    }
   ],
   "source": [
    "# Create the caption with proper formatting\n",
    "caption = (\n",
    "    \"Coefficients for Bayesian logistic regression model predicting \"\n",
    "    \"stay choices in the two-step task. \"\n",
    "    \"from model-derived uncertainty metrics in the **replication** sample. \"\n",
    "    \"$\\\\mu$ = posterior mean, $\\\\sigma$ = posterior standard deviation, \"\n",
    "    \"$HDI_{2.5}$ = 2.5% highest density interval, \"\n",
    "    \"$HDI_{97.5}$ = 97.5% highest density interval.\"\n",
    ")\n",
    "\n",
    "# Save the markdown tables with the caption\n",
    "save_markdown_tables(\n",
    "    [results_table],\n",
    "    [caption],\n",
    "    \"paper/supplementary_tables.md\",\n",
    "    prepend_string=\"# Supplementary tables\",\n",
    ")"
   ]
  }
 ],
 "metadata": {
  "kernelspec": {
   "display_name": "tu_test_env",
   "language": "python",
   "name": "tu_test_env"
  },
  "language_info": {
   "codemirror_mode": {
    "name": "ipython",
    "version": 3
   },
   "file_extension": ".py",
   "mimetype": "text/x-python",
   "name": "python",
   "nbconvert_exporter": "python",
   "pygments_lexer": "ipython3",
   "version": "3.9.19"
  }
 },
 "nbformat": 4,
 "nbformat_minor": 2
}
