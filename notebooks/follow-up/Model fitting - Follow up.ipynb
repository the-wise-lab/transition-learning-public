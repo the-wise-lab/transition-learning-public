{
 "cells": [
  {
   "cell_type": "markdown",
   "metadata": {},
   "source": [
    "# Model fitting - Follow-up Sample\n",
    "\n",
    "## Analysis overview\n",
    "\n",
    "#### Discovery sample\n",
    "\n",
    "1. Model fitting: [`Model fitting - Discovery.ipynb`](<../../notebooks/discovery/Model fitting - Discovery.ipynb>)\n",
    "2. Confidence analysis: [`Confidence analysis - Discovery.ipynb`](<../../notebooks/discovery/Confidence analysis - Discovery.ipynb>)\n",
    "3. Transdiagnostic factor estimation: [`Transdiagnostic factors - Discovery.ipynb`](<../../notebooks/discovery/Transdiagnostic factors - Discovery.ipynb>)\n",
    "4. Symptom-behaviour analyses: [`Symptom analyses - Discovery.ipynb`](<../../notebooks/discovery/Symptom analyses - Discovery.ipynb>)\n",
    "\n",
    "#### Replication sample\n",
    "\n",
    "1. Model fitting: [`Model fitting - Replication.ipynb`](<../../notebooks/replication/Model fitting - Replication.ipynb>)\n",
    "2. Confidence analysis: [`Confidence analysis - Replication.ipynb`](<../../notebooks/replication/Confidence analysis - Replication.ipynb>)\n",
    "3. Two-step task analysis: [`Two-step modelling - Replication.ipynb`](<../../notebooks/replication/Two-step modelling - Replication.ipynb>)\n",
    "4. Transdiagnostic factor estimation: [`Transdiagnostic factors - Replication.ipynb`](<../../notebooks/replication/Transdiagnostic factors - Replication.ipynb>)\n",
    "5. Symptom-behaviour analyses: [`Symptom analyses - Replication.ipynb`](<../../notebooks/replication/Symptom analyses - Replication.ipynb>)\n",
    "\n",
    "#### Test-retest sample\n",
    "\n",
    "1. Model-fitting: [`Model fitting - Retest.ipynb`](<../../notebooks/retest/Model fitting - Retest.ipynb>)\n",
    "2. Two-step modelling: [`Two-step modelling - Retest.ipynb`](<../../notebooks/retest/Two-step modelling - Retest.ipynb>)\n",
    "3. Test-retest reliability analyses: [`Test-retest - Retest.ipynb`](<../../notebooks/retest/Test-retest - Retest.ipynb>)\n",
    "\n",
    "#### Follow-up sample\n",
    "\n",
    "1. **⭐ Model fitting: [`Model fitting - Follow up.ipynb`](<../../notebooks/follow-up/Model fitting - Follow up.ipynb>)** ⭐\n",
    "2. Transdiagnostic factor estimation: [`Transdiagnostic factors - Follow up.ipynb`](<../../notebooks/follow-up/Transdiagnostic factors - Follow up.ipynb>)\n",
    "3. Test-retest reliability analyses: [`Test-retest - Follow up.ipynb`](<../../notebooks/follow-up/Test-retest - Follow up.ipynb>)\n",
    "4. Longitudinal analyses: [`Longitudinal analyses - Follow up.ipynb`](<../../notebooks/follow-up/Longitudinal analyses - Follow up.ipynb>)\n",
    "\n",
    "#### Follow-up sample (1 year)\n",
    "\n",
    "1. Model fitting: [`Model fitting - Follow up 1yr.ipynb`](<../../notebooks/follow-up-1yr/Model fitting - Follow up 1yr.ipynb>)\n",
    "2. Transdiagnostic factor estimation: [`Transdiagnostic factors - Follow up 1yr.ipynb`](<../../notebooks/follow-up-1yr/Transdiagnostic factors - Follow up 1yr.ipynb>)\n",
    "3. Test-retest reliability analyses: [`Test-retest - Follow up 1yr.ipynb`](<../../notebooks/follow-up-1yr/Test-retest - Follow up 1yr.ipynb>)\n",
    "4. Longitudinal analyses: [`Longitudinal analyses -  Follow up 1yr.ipynb`](<../../notebooks/follow-up-1yr/Longitudinal analyses - Follow up 1yr.ipynb>)\n",
    "\n",
    "## Notebook overview\n",
    "\n",
    "This notebook performs model fitting using simulation-based inference with pre-trained models."
   ]
  },
  {
   "cell_type": "code",
   "execution_count": 1,
   "metadata": {},
   "outputs": [
    {
     "name": "stderr",
     "output_type": "stream",
     "text": [
      "/scratch/users/user/miniconda3/envs/tu_test_env/lib/python3.9/site-packages/tqdm/auto.py:21: TqdmWarning: IProgress not found. Please update jupyter and ipywidgets. See https://ipywidgets.readthedocs.io/en/stable/user_install.html\n",
      "  from .autonotebook import tqdm as notebook_tqdm\n"
     ]
    },
    {
     "name": "stdout",
     "output_type": "stream",
     "text": [
      "Font Heebo already available in Matplotlib.\n",
      "Matplotlib style set to: style.mplstyle with font Heebo\n",
      "Using device: cpu\n"
     ]
    },
    {
     "name": "stderr",
     "output_type": "stream",
     "text": [
      "/users/user/.local/lib/python3.9/site-packages/outdated/utils.py:14: OutdatedPackageWarning: The package pingouin is out of date. Your version is 0.5.3, the latest is 0.5.4.\n",
      "Set the environment variable OUTDATED_IGNORE=1 to disable these warnings.\n",
      "  return warn(\n"
     ]
    }
   ],
   "source": [
    "import os\n",
    "\n",
    "os.environ[\"JAX_PLATFORMS\"] = \"cpu\"\n",
    "\n",
    "import dill\n",
    "import matplotlib.pyplot as plt\n",
    "import numpy as np\n",
    "import pandas as pd\n",
    "import torch\n",
    "from behavioural_modelling.learning.beta_models import beta_mean_var\n",
    "from model_fit_tools.plotting import *\n",
    "from model_fit_tools.plotting import plot_waic\n",
    "from scipy.stats import pearsonr\n",
    "from simulation_based_inference.npe import NPEModel\n",
    "\n",
    "from transition_uncertainty.modelling_utils import (\n",
    "    calculate_waic,\n",
    "    find_trained_models,\n",
    "    load_task_spec,\n",
    "    map_sampled_params,\n",
    "    repeat_for_all_subjects,\n",
    "    simulate_from_mean_params,\n",
    "    transform_to_bounded,\n",
    ")\n",
    "\n",
    "torch.set_num_threads(1)  # things are slow with multiple cores\n",
    "torch.set_num_interop_threads(1)  # things are slow with multiple cores\n",
    "from transition_uncertainty.style import set_style\n",
    "from transition_uncertainty.utils import check_directories\n",
    "\n",
    "# Raise an error if we're not in the root directory by checking if the data folder exists\n",
    "check_directories()\n",
    "\n",
    "# Set plotting style\n",
    "set_style(\"style.mplstyle\")\n",
    "\n",
    "# Report whether we're using GPU or CPU\n",
    "device = torch.device(\"cuda\" if torch.cuda.is_available() else \"cpu\")\n",
    "print(\"Using device:\", device)"
   ]
  },
  {
   "attachments": {},
   "cell_type": "markdown",
   "metadata": {},
   "source": [
    "## Load task specification\n",
    "\n",
    "Here we load in information about the task (e.g., rewards, transition probabilities, etc.).\n"
   ]
  },
  {
   "cell_type": "code",
   "execution_count": 2,
   "metadata": {},
   "outputs": [],
   "source": [
    "# Load task specification\n",
    "(\n",
    "    second_stage_states,\n",
    "    second_stage_state_probs,\n",
    "    rewards,\n",
    "    reward_probs,\n",
    "    available_side,\n",
    ") = load_task_spec(\"data/task_spec\")\n",
    "\n",
    "# Get trials where MB was blocked\n",
    "MB_blocked = (reward_probs == 2)[0, :, 0]"
   ]
  },
  {
   "attachments": {},
   "cell_type": "markdown",
   "metadata": {},
   "source": [
    "## Extract choices from response data\n",
    "\n",
    "Next we need to load in the response data and extract the choices made by the participant.\n"
   ]
  },
  {
   "cell_type": "code",
   "execution_count": 3,
   "metadata": {},
   "outputs": [
    {
     "name": "stdout",
     "output_type": "stream",
     "text": [
      "Number of subjects: 412\n"
     ]
    }
   ],
   "source": [
    "choices = []\n",
    "\n",
    "data = pd.read_csv(\"data/follow-up/transition-task/cannonball_task_data.csv\")\n",
    "\n",
    "for sub in data[\"subjectID\"].unique():\n",
    "    choices.append(data[data[\"subjectID\"] == sub].response.values - 1)\n",
    "\n",
    "# Stack choices\n",
    "choices = np.stack(choices)[:, None, :]\n",
    "\n",
    "# Remove confidence trials as these are not relevant for model fitting\n",
    "choices_without_confidence = choices[:, :, available_side[0, :] == -1]\n",
    "\n",
    "# Get the number of subjects\n",
    "N_SUBJECTS = choices.shape[0]\n",
    "\n",
    "print(f\"Number of subjects: {N_SUBJECTS}\")"
   ]
  },
  {
   "attachments": {},
   "cell_type": "markdown",
   "metadata": {},
   "source": [
    "## Model fitting using SBI\n",
    "\n",
    "Parameters are estimated using simulation-based inference. We use the models that were pre-trained using the scripts provided in the `./scripts` directory.\n",
    "\n",
    "Here we only fit the pure model-based model as this was the winning model at the initial time point.\n"
   ]
  },
  {
   "attachments": {},
   "cell_type": "markdown",
   "metadata": {},
   "source": [
    "### Load in trained models\n"
   ]
  },
  {
   "cell_type": "code",
   "execution_count": 4,
   "metadata": {},
   "outputs": [],
   "source": [
    "# Specify models\n",
    "models = [\"mf_only\", \"mb_only\"]\n",
    "\n",
    "# Get the trained models\n",
    "trained_models = find_trained_models(models, \"models\")"
   ]
  },
  {
   "attachments": {},
   "cell_type": "markdown",
   "metadata": {},
   "source": [
    "### Sample from the posterior\n",
    "\n",
    "This seems to work slowly if you don't have a lot of memory...\n"
   ]
  },
  {
   "cell_type": "code",
   "execution_count": 5,
   "metadata": {},
   "outputs": [
    {
     "name": "stdout",
     "output_type": "stream",
     "text": [
      "Sampling parameters for model: mf_only\n"
     ]
    },
    {
     "name": "stderr",
     "output_type": "stream",
     "text": [
      "  0%|                                                                                                                                                      | 0/412 [00:00<?, ?it/s]"
     ]
    },
    {
     "name": "stderr",
     "output_type": "stream",
     "text": [
      "100%|████████████████████████████████████████████████████████████████████████████████████████████████████████████████████████████████████████████| 412/412 [00:14<00:00, 29.00it/s]\n"
     ]
    },
    {
     "name": "stdout",
     "output_type": "stream",
     "text": [
      "Sampling parameters for model: mb_only\n"
     ]
    },
    {
     "name": "stderr",
     "output_type": "stream",
     "text": [
      "100%|████████████████████████████████████████████████████████████████████████████████████████████████████████████████████████████████████████████| 412/412 [00:14<00:00, 29.04it/s]\n"
     ]
    }
   ],
   "source": [
    "# Loop through models and sample parameters\n",
    "sampled_params_dict = {}\n",
    "\n",
    "for model in models:\n",
    "    print(\"Sampling parameters for model: {}\".format(model))\n",
    "    sampled_params_dict[model] = trained_models[model].sample(\n",
    "        choices_without_confidence, n_samples=1000\n",
    "    )\n",
    "\n",
    "# Create directory if it doesn't exist\n",
    "if not os.path.exists(\"results/follow-up/transition-task_model-fit\"):\n",
    "    os.makedirs(\"results/follow-up/transition-task_model-fit\")\n",
    "\n",
    "# Save the sampled parameters\n",
    "with open(\n",
    "    os.path.join(\n",
    "        \"results/follow-up/transition-task_model-fit\",\n",
    "        \"sampled_params_dict.pkl\",\n",
    "    ),\n",
    "    \"wb\",\n",
    ") as f:\n",
    "    dill.dump(sampled_params_dict, f)"
   ]
  },
  {
   "cell_type": "markdown",
   "metadata": {},
   "source": [
    "## Model fit\n",
    "\n",
    "Next we estimate the [WAIC](https://arxiv.org/abs/1507.04544) for each model. This is a measure of model fit that penalises models with more parameters. We use the [arviz](https://arviz-devs.github.io/arviz/) package to calculate the WAIC, both across all subjects and for each subject individually.\n"
   ]
  },
  {
   "cell_type": "code",
   "execution_count": 6,
   "metadata": {},
   "outputs": [
    {
     "name": "stdout",
     "output_type": "stream",
     "text": [
      "Calculating WAIC for model: mf_only\n",
      "Calculating WAIC for model: mb_only\n"
     ]
    }
   ],
   "source": [
    "# Initialise dictionaries\n",
    "waic_dict = {}\n",
    "subject_waic_dict = {}\n",
    "\n",
    "# Loop through models and calculate WAIC\n",
    "for model in models:\n",
    "    print(\"Calculating WAIC for model: {}\".format(model))\n",
    "\n",
    "    # Create a template array to fill in with estimated parameters Different\n",
    "    # models have different numbers of parameters, but the WAIC function\n",
    "    # requires that all models have the same number of parameters. This\n",
    "    # template array is used to fill in the estimated parameters for each\n",
    "    # model.\n",
    "    sampled_param_template = np.zeros(\n",
    "        (\n",
    "            sampled_params_dict[model].shape[0],\n",
    "            sampled_params_dict[model].shape[1],\n",
    "            6,\n",
    "        )\n",
    "    )\n",
    "\n",
    "    # Map sampled parameters to the template array\n",
    "    sampled_params_mapped = map_sampled_params(\n",
    "        model, sampled_params_dict[model], sampled_param_template\n",
    "    )\n",
    "\n",
    "    # Transform back to bounded\n",
    "    sampled_params_mapped[:, :, 4] = transform_to_bounded(\n",
    "        sampled_params_mapped[:, :, 4], 0.1, 0.9\n",
    "    )\n",
    "    sampled_params_mapped[:, :, 5] = transform_to_bounded(\n",
    "        sampled_params_mapped[:, :, 5], 0.01, 0.2\n",
    "    )\n",
    "\n",
    "    # Get dataset and waic\n",
    "    ds, waic_dict[model] = calculate_waic(\n",
    "        sampled_params_mapped,\n",
    "        second_stage_states,\n",
    "        rewards,\n",
    "        reward_probs,\n",
    "        available_side,\n",
    "        choices,\n",
    "        pointwise=True,\n",
    "    )\n",
    "\n",
    "    # Get subject-wise WAIC\n",
    "    subject_waic_dict[model] = waic_dict[model].waic_i.sum(axis=-1)\n",
    "\n",
    "########################\n",
    "# Convert to dataframe #\n",
    "########################\n",
    "\n",
    "# Initialise dataframe\n",
    "waic_df = {\"model\": [], \"waic\": [], \"se\": []}\n",
    "\n",
    "# Loop through models and append values to dataframe\n",
    "for model, waic in waic_dict.items():\n",
    "    waic_df[\"model\"].append(model)\n",
    "    waic_df[\"waic\"].append(waic.elpd_waic)\n",
    "    waic_df[\"se\"].append(waic.se)\n",
    "\n",
    "# Convert to dataframe\n",
    "waic_df = pd.DataFrame(waic_df)\n",
    "waic_df.head()\n",
    "\n",
    "# Get unique subject IDs\n",
    "unique_subject_IDs = pd.Series(data[\"subjectID\"].unique())\n",
    "\n",
    "# Convert your original dictionary to a DataFrame\n",
    "subject_waic_df = pd.DataFrame(subject_waic_dict).stack().reset_index()\n",
    "\n",
    "# Assign proper column names\n",
    "subject_waic_df.columns = [\"subject\", \"model\", \"waic\"]\n",
    "\n",
    "# Ensure that 'subject' column has corresponding subject IDs\n",
    "subject_waic_df[\"subject\"] = unique_subject_IDs.loc[\n",
    "    subject_waic_df[\"subject\"]\n",
    "].values\n",
    "\n",
    "# Save dataframes\n",
    "waic_df.to_csv(\"results/follow-up/transition-task_model-fit/group_waic.csv\")\n",
    "subject_waic_df.to_csv(\n",
    "    \"results/follow-up/transition-task_model-fit/subject_waic.csv\"\n",
    ")"
   ]
  },
  {
   "cell_type": "markdown",
   "metadata": {},
   "source": [
    "### Plot estimated parameter distributions\n"
   ]
  },
  {
   "cell_type": "code",
   "execution_count": 7,
   "metadata": {},
   "outputs": [
    {
     "data": {
      "image/png": "[encoded data removed]",
      "text/plain": [
       "<Figure size 559.92x224 with 3 Axes>"
      ]
     },
     "metadata": {},
     "output_type": "display_data"
    }
   ],
   "source": [
    "param_names = [\n",
    "    \"$\\\\tau_p$\",\n",
    "    \"$\\\\lambda_p$\",\n",
    "    \"Temperature\",\n",
    "]\n",
    "\n",
    "plot_parameter_dists(sampled_params_dict[\"mb_only\"], param_names=param_names)"
   ]
  },
  {
   "cell_type": "markdown",
   "metadata": {},
   "source": [
    "## Add parameter values to a dataframe\n"
   ]
  },
  {
   "cell_type": "code",
   "execution_count": 8,
   "metadata": {},
   "outputs": [
    {
     "data": {
      "text/html": [
       "<div>\n",
       "<style scoped>\n",
       "    .dataframe tbody tr th:only-of-type {\n",
       "        vertical-align: middle;\n",
       "    }\n",
       "\n",
       "    .dataframe tbody tr th {\n",
       "        vertical-align: top;\n",
       "    }\n",
       "\n",
       "    .dataframe thead th {\n",
       "        text-align: right;\n",
       "    }\n",
       "</style>\n",
       "<table border=\"1\" class=\"dataframe\">\n",
       "  <thead>\n",
       "    <tr style=\"text-align: right;\">\n",
       "      <th></th>\n",
       "      <th>subjectID</th>\n",
       "      <th>tau_value</th>\n",
       "      <th>tau_prob</th>\n",
       "      <th>decay_value</th>\n",
       "      <th>decay_prob</th>\n",
       "      <th>W</th>\n",
       "      <th>temperature</th>\n",
       "      <th>MB_MF_WAIC_diff</th>\n",
       "    </tr>\n",
       "  </thead>\n",
       "  <tbody>\n",
       "    <tr>\n",
       "      <th>0</th>\n",
       "      <td>sub-001</td>\n",
       "      <td>0.0</td>\n",
       "      <td>0.045253</td>\n",
       "      <td>0.0</td>\n",
       "      <td>0.549014</td>\n",
       "      <td>1.0</td>\n",
       "      <td>0.607175</td>\n",
       "      <td>0.449443</td>\n",
       "    </tr>\n",
       "    <tr>\n",
       "      <th>1</th>\n",
       "      <td>sub-002</td>\n",
       "      <td>0.0</td>\n",
       "      <td>0.495104</td>\n",
       "      <td>0.0</td>\n",
       "      <td>0.560250</td>\n",
       "      <td>1.0</td>\n",
       "      <td>0.515616</td>\n",
       "      <td>16.962467</td>\n",
       "    </tr>\n",
       "    <tr>\n",
       "      <th>2</th>\n",
       "      <td>sub-003</td>\n",
       "      <td>0.0</td>\n",
       "      <td>0.035006</td>\n",
       "      <td>0.0</td>\n",
       "      <td>0.388169</td>\n",
       "      <td>1.0</td>\n",
       "      <td>0.651357</td>\n",
       "      <td>0.251545</td>\n",
       "    </tr>\n",
       "    <tr>\n",
       "      <th>3</th>\n",
       "      <td>sub-004</td>\n",
       "      <td>0.0</td>\n",
       "      <td>0.425840</td>\n",
       "      <td>0.0</td>\n",
       "      <td>0.540624</td>\n",
       "      <td>1.0</td>\n",
       "      <td>0.671629</td>\n",
       "      <td>12.398017</td>\n",
       "    </tr>\n",
       "    <tr>\n",
       "      <th>4</th>\n",
       "      <td>sub-005</td>\n",
       "      <td>0.0</td>\n",
       "      <td>0.089469</td>\n",
       "      <td>0.0</td>\n",
       "      <td>0.534215</td>\n",
       "      <td>1.0</td>\n",
       "      <td>0.649393</td>\n",
       "      <td>-0.525352</td>\n",
       "    </tr>\n",
       "  </tbody>\n",
       "</table>\n",
       "</div>"
      ],
      "text/plain": [
       "  subjectID  tau_value  tau_prob  decay_value  decay_prob    W  temperature  \\\n",
       "0   sub-001        0.0  0.045253          0.0    0.549014  1.0     0.607175   \n",
       "1   sub-002        0.0  0.495104          0.0    0.560250  1.0     0.515616   \n",
       "2   sub-003        0.0  0.035006          0.0    0.388169  1.0     0.651357   \n",
       "3   sub-004        0.0  0.425840          0.0    0.540624  1.0     0.671629   \n",
       "4   sub-005        0.0  0.089469          0.0    0.534215  1.0     0.649393   \n",
       "\n",
       "   MB_MF_WAIC_diff  \n",
       "0         0.449443  \n",
       "1        16.962467  \n",
       "2         0.251545  \n",
       "3        12.398017  \n",
       "4        -0.525352  "
      ]
     },
     "execution_count": 8,
     "metadata": {},
     "output_type": "execute_result"
    }
   ],
   "source": [
    "best_model = \"mb_only\"\n",
    "\n",
    "best_model_sampled_params = sampled_params_dict[best_model].copy()\n",
    "\n",
    "# Fill in the template array\n",
    "sampled_param_template = np.zeros(\n",
    "    (best_model_sampled_params.shape[0], best_model_sampled_params.shape[1], 6)\n",
    ")\n",
    "\n",
    "# Map sampled parameters to the template array\n",
    "best_model_sampled_params = map_sampled_params(\n",
    "    best_model, best_model_sampled_params, sampled_param_template\n",
    ").mean(axis=0)\n",
    "\n",
    "param_df = {\n",
    "    \"subjectID\": data[\"subjectID\"].unique(),\n",
    "    \"tau_value\": best_model_sampled_params[:, 0],\n",
    "    \"tau_prob\": best_model_sampled_params[:, 1],\n",
    "    \"decay_value\": best_model_sampled_params[:, 2],\n",
    "    \"decay_prob\": best_model_sampled_params[:, 3],\n",
    "    \"W\": best_model_sampled_params[:, 4],\n",
    "    \"temperature\": best_model_sampled_params[:, 5],\n",
    "    \"MB_MF_WAIC_diff\": (\n",
    "        subject_waic_dict[\"mb_only\"] - subject_waic_dict[\"mf_only\"]\n",
    "    ).data,\n",
    "}\n",
    "\n",
    "param_df = pd.DataFrame(param_df)\n",
    "\n",
    "param_df.head()"
   ]
  },
  {
   "cell_type": "markdown",
   "metadata": {},
   "source": [
    "## Simulate data using estimated parameters\n",
    "\n",
    "This code simulates data from the winning model using the estimated parameters.\n",
    "\n",
    "This creates two `.csv` files:\n",
    "\n",
    "-   `data/task/model_fit_results/param_df.csv`: This contains the estimated parameter values for each subject, alongside the average mean and variance of transition estimates across the task for each subject.\n",
    "-   `data/task/model_fit_results/cannonball_task_data_with_model_values.csv`: This augments the raw task data for each subject with trialwise estimates of the mean and variance of transition estiamtes across the task.\n"
   ]
  },
  {
   "cell_type": "code",
   "execution_count": 9,
   "metadata": {},
   "outputs": [],
   "source": [
    "# Simulate data from the model using the mean parameter values\n",
    "_, transition_estimates, combined_dists = simulate_from_mean_params(\n",
    "    best_model_sampled_params,\n",
    "    second_stage_states,\n",
    "    rewards,\n",
    "    reward_probs,\n",
    "    available_side,\n",
    ")\n",
    "\n",
    "# Get average transition mean and var across the task\n",
    "transition_mean, transition_var = beta_mean_var(transition_estimates)\n",
    "param_df[\"transition_mean\"] = transition_mean.squeeze().mean(axis=1)\n",
    "param_df[\"transition_var\"] = transition_var.squeeze().mean(axis=1)\n",
    "\n",
    "# Get average combined mean and var across the task\n",
    "combined_mean, combined_var = beta_mean_var(combined_dists)\n",
    "param_df[\"combined_mean\"] = combined_mean.squeeze().mean(axis=-1).mean(axis=-1)\n",
    "param_df[\"combined_var\"] = combined_var.squeeze().mean(axis=-1).mean(axis=-1)\n",
    "\n",
    "# Save\n",
    "param_df.to_csv(\n",
    "    \"results/follow-up/transition-task_model-fit/param_df.csv\", index=False\n",
    ")\n",
    "\n",
    "# Get transition mean and var at each trial\n",
    "transition_mean = transition_mean.flatten()\n",
    "transition_var = transition_var.flatten()\n",
    "\n",
    "# Add mean and var to data\n",
    "data[\"transition_mean\"] = transition_mean\n",
    "data[\"transition_var\"] = transition_var\n",
    "\n",
    "# Save\n",
    "data.to_csv(\n",
    "    \"results/follow-up/transition-task_model-fit/cannonball_task_data_with_model_values.csv\",\n",
    "    index=False,\n",
    ")"
   ]
  }
 ],
 "metadata": {
  "kernelspec": {
   "display_name": "tu_test_env",
   "language": "python",
   "name": "tu_test_env"
  },
  "language_info": {
   "codemirror_mode": {
    "name": "ipython",
    "version": 3
   },
   "file_extension": ".py",
   "mimetype": "text/x-python",
   "name": "python",
   "nbconvert_exporter": "python",
   "pygments_lexer": "ipython3",
   "version": "3.9.19"
  }
 },
 "nbformat": 4,
 "nbformat_minor": 2
}
