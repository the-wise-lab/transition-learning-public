{
 "cells": [
  {
   "cell_type": "markdown",
   "metadata": {},
   "source": [
    "# Prediction of transdiagnostic factors - Follow up sample\n",
    "\n",
    "## Analysis overview\n",
    "\n",
    "#### Discovery sample\n",
    "\n",
    "1. Model fitting: [`Model fitting - Discovery.ipynb`](<../../notebooks/discovery/Model fitting - Discovery.ipynb>)\n",
    "2. Confidence analysis: [`Confidence analysis - Discovery.ipynb`](<../../notebooks/discovery/Confidence analysis - Discovery.ipynb>)\n",
    "3. Transdiagnostic factor estimation: [`Transdiagnostic factors - Discovery.ipynb`](<../../notebooks/discovery/Transdiagnostic factors - Discovery.ipynb>)\n",
    "4. Symptom-behaviour analyses: [`Symptom analyses - Discovery.ipynb`](<../../notebooks/discovery/Symptom analyses - Discovery.ipynb>)\n",
    "\n",
    "#### Replication sample\n",
    "\n",
    "1. Model fitting: [`Model fitting - Replication.ipynb`](<../../notebooks/replication/Model fitting - Replication.ipynb>)\n",
    "2. Confidence analysis: [`Confidence analysis - Replication.ipynb`](<../../notebooks/replication/Confidence analysis - Replication.ipynb>)\n",
    "3. Two-step task analysis: [`Two-step modelling - Replication.ipynb`](<../../notebooks/replication/Two-step modelling - Replication.ipynb>)\n",
    "4. Transdiagnostic factor estimation: [`Transdiagnostic factors - Replication.ipynb`](<../../notebooks/replication/Transdiagnostic factors - Replication.ipynb>)\n",
    "5. Symptom-behaviour analyses: [`Symptom analyses - Replication.ipynb`](<../../notebooks/replication/Symptom analyses - Replication.ipynb>)\n",
    "\n",
    "#### Test-retest sample\n",
    "\n",
    "1. Model-fitting: [`Model fitting - Retest.ipynb`](<../../notebooks/retest/Model fitting - Retest.ipynb>)\n",
    "2. Two-step modelling: [`Two-step modelling - Retest.ipynb`](<../../notebooks/retest/Two-step modelling - Retest.ipynb>)\n",
    "3. Test-retest reliability analyses: [`Test-retest - Retest.ipynb`](<../../notebooks/retest/Test-retest - Retest.ipynb>)\n",
    "\n",
    "#### Follow-up sample\n",
    "\n",
    "1. Model fitting: [`Model fitting - Follow up.ipynb`](<../../notebooks/follow-up/Model fitting - Follow up.ipynb>)\n",
    "2. **⭐ Transdiagnostic factor estimation: [`Transdiagnostic factors - Follow up.ipynb`](<../../notebooks/follow-up/Transdiagnostic factors - Follow up.ipynb>)** ⭐\n",
    "3. Test-retest reliability analyses: [`Test-retest - Follow up.ipynb`](<../../notebooks/follow-up/Test-retest - Follow up.ipynb>)\n",
    "4. Longitudinal analyses: [`Longitudinal analyses - Follow up.ipynb`](<../../notebooks/follow-up/Longitudinal analyses - Follow up.ipynb>)\n",
    "\n",
    "#### Follow-up sample (1 year)\n",
    "\n",
    "1. Model fitting: [`Model fitting - Follow up 1yr.ipynb`](<../../notebooks/follow-up-1yr/Model fitting - Follow up 1yr.ipynb>)\n",
    "2. Transdiagnostic factor estimation: [`Transdiagnostic factors - Follow up 1yr.ipynb`](<../../notebooks/follow-up-1yr/Transdiagnostic factors - Follow up 1yr.ipynb>)\n",
    "3. Test-retest reliability analyses: [`Test-retest - Follow up 1yr.ipynb`](<../../notebooks/follow-up-1yr/Test-retest - Follow up 1yr.ipynb>)\n",
    "4. Longitudinal analyses: [`Longitudinal analyses -  Follow up 1yr.ipynb`](<../../notebooks/follow-up-1yr/Longitudinal analyses - Follow up 1yr.ipynb>)\n",
    "\n",
    "## Notebook overview\n",
    "\n",
    "This notebook trains a model to predict scores on the three transdiagnostic factors originally identified by [Gillan et al. (2016)](https://elifesciences.org/articles/11305).\n",
    "\n",
    "We achieve this using the [FACSIMILE](https://github.com/tobywise/FACSIMILE) package."
   ]
  },
  {
   "cell_type": "code",
   "execution_count": 1,
   "metadata": {},
   "outputs": [
    {
     "name": "stdout",
     "output_type": "stream",
     "text": [
      "Font Heebo already available in Matplotlib.\n",
      "Matplotlib style set to: style.mplstyle with font Heebo\n"
     ]
    }
   ],
   "source": [
    "import os\n",
    "\n",
    "import joblib\n",
    "import matplotlib.pyplot as plt\n",
    "import numpy as np\n",
    "import pandas as pd\n",
    "from facsimile.eval import FACSIMILEOptimiser\n",
    "from facsimile.plotting import plot_predictions\n",
    "from facsimile.utils import train_validation_test_split\n",
    "\n",
    "from transition_uncertainty.style import set_style\n",
    "from transition_uncertainty.utils import check_directories\n",
    "\n",
    "# Raise an error if we're not in the root directory by checking if the data folder exists\n",
    "check_directories()\n",
    "\n",
    "# Set style for figures\n",
    "set_style(\"style.mplstyle\")"
   ]
  },
  {
   "cell_type": "markdown",
   "metadata": {},
   "source": [
    "## Data\n",
    "\n",
    "First, we load the data used to train the model, which comes from [Hopkins et al. (2022)](https://psyarxiv.com/q83sh/).\n"
   ]
  },
  {
   "cell_type": "code",
   "execution_count": 2,
   "metadata": {},
   "outputs": [
    {
     "name": "stderr",
     "output_type": "stream",
     "text": [
      "/users/user/.local/lib/python3.9/site-packages/outdated/utils.py:14: OutdatedPackageWarning: The package pingouin is out of date. Your version is 0.5.3, the latest is 0.5.4.\n",
      "Set the environment variable OUTDATED_IGNORE=1 to disable these warnings.\n",
      "  return warn(\n"
     ]
    }
   ],
   "source": [
    "items_url = (\n",
    "    \"https://raw.githubusercontent.com/tobywise/FACSIMILE/\"\n",
    "    \"35b15c71523055ed78d7f6c50a1e7fb875382817/data/items.csv\"\n",
    ")\n",
    "factor_scores_url = (\n",
    "    \"https://raw.githubusercontent.com/tobywise/FACSIMILE/\"\n",
    "    \"35b15c71523055ed78d7f6c50a1e7fb875382817/data/factor_scores.csv\"\n",
    ")\n",
    "items = pd.read_csv(items_url)\n",
    "factor_scores = pd.read_csv(factor_scores_url)"
   ]
  },
  {
   "cell_type": "markdown",
   "metadata": {},
   "source": [
    "## Trained model\n",
    "\n",
    "Here we load the model we had previously trained\n"
   ]
  },
  {
   "cell_type": "code",
   "execution_count": 3,
   "metadata": {},
   "outputs": [],
   "source": [
    "best_clf = joblib.load(\n",
    "    \"results/discovery/transdiagnostic-factors/facsimile_model.pkl\"\n",
    ")\n",
    "\n",
    "# load weights\n",
    "weights = pd.read_csv(\n",
    "    \"results/discovery/transdiagnostic-factors/facsimile_weights.csv\"\n",
    ")"
   ]
  },
  {
   "cell_type": "markdown",
   "metadata": {},
   "source": [
    "### Select the items that we have data for\n",
    "\n",
    "We used a subset of these items based on an earlier version of the item reduction procedure. We need to train an improved prediction model based on these items\n"
   ]
  },
  {
   "cell_type": "code",
   "execution_count": 4,
   "metadata": {},
   "outputs": [],
   "source": [
    "# Laod in our questionnaire dataframe\n",
    "questionnaire_df = questionnaire_df = pd.read_csv(\n",
    "    \"data/follow-up/questionnaires/questionnaire_data_wide-reverse_coded.csv\"\n",
    ")\n",
    "\n",
    "# Get the columns to include\n",
    "included_columns = [i for i in items.columns if i in questionnaire_df.columns]\n",
    "\n",
    "# Select these columns in the items dataframe\n",
    "items = items[included_columns]\n",
    "\n",
    "# Select the columns in the questionnaire dataframe\n",
    "questionnaire_df = questionnaire_df[[\"subjectID\"] + included_columns]\n",
    "\n",
    "# Drop NA rows (not sure why we have one subject with NAs)\n",
    "questionnaire_df = questionnaire_df.dropna()"
   ]
  },
  {
   "cell_type": "markdown",
   "metadata": {},
   "source": [
    "### Recode our data\n",
    "\n",
    "The original data (with the exception of the LSAS and OCI) was coded with responses starting from 1, whereas ours (with the exception of the EAT measure) starts from 0. We'll recode our data so that responses start from 1.\n"
   ]
  },
  {
   "cell_type": "code",
   "execution_count": 5,
   "metadata": {},
   "outputs": [],
   "source": [
    "# Make sure all items in questionnaire_df (except those including EAT) start\n",
    "# from 1 rather than 0\n",
    "for col in questionnaire_df.columns:\n",
    "    if (\n",
    "        col != \"subjectID\"\n",
    "        and not \"EAT\" in col\n",
    "        and not \"LSAS\" in col\n",
    "        and not \"OCI\" in col\n",
    "    ):\n",
    "        questionnaire_df[col] = questionnaire_df[col] + 1\n",
    "\n",
    "# Check that the columns line up\n",
    "assert (\n",
    "    questionnaire_df.columns[1:] == items.columns\n",
    ").all(), \"Columns do not match\"\n",
    "\n",
    "# Check that the values look right across both dataframes\n",
    "assert (\n",
    "    questionnaire_df.max()[1:] == items.max()\n",
    ").all(), \"Max values do not match\"\n",
    "assert (\n",
    "    questionnaire_df.min()[1:] == items.min()\n",
    ").all(), \"Min values do not match\""
   ]
  },
  {
   "cell_type": "markdown",
   "metadata": {},
   "source": [
    "## Predict scores\n"
   ]
  },
  {
   "cell_type": "code",
   "execution_count": 6,
   "metadata": {},
   "outputs": [],
   "source": [
    "# Predict scores\n",
    "y_pred = best_clf.predict(questionnaire_df.iloc[:, 1:])"
   ]
  },
  {
   "cell_type": "markdown",
   "metadata": {},
   "source": [
    "### Take a look at the distribution of scores\n",
    "\n",
    "We can plot scores on each factor as a histogram.\n"
   ]
  },
  {
   "cell_type": "code",
   "execution_count": 7,
   "metadata": {},
   "outputs": [
    {
     "data": {
      "image/png": "[encoded data removed]",
      "text/plain": [
       "<Figure size 560x184 with 3 Axes>"
      ]
     },
     "metadata": {},
     "output_type": "display_data"
    }
   ],
   "source": [
    "# Plot histogram of scores on each of the three factors in y_pred\n",
    "f, ax = plt.subplots(1, 3, figsize=(7, 2.3))\n",
    "\n",
    "# Get the default color cycle\n",
    "prop_cycle = plt.rcParams[\"axes.prop_cycle\"]\n",
    "colors = prop_cycle.by_key()[\"color\"]\n",
    "\n",
    "for i, factor in enumerate(y_pred.columns):\n",
    "    ax[i].hist(y_pred[factor], bins=10, color=colors[i], alpha=0.6)\n",
    "    ax[i].set_title(factor)\n",
    "    ax[i].set_xlabel(\"Predicted score\")\n",
    "    ax[i].set_ylabel(\"Frequency\")\n",
    "\n",
    "plt.tight_layout()"
   ]
  },
  {
   "cell_type": "markdown",
   "metadata": {},
   "source": [
    "## Export the predicted scores\n",
    "\n",
    "Finally, we can export the predicted scores on our test data.\n"
   ]
  },
  {
   "cell_type": "code",
   "execution_count": 8,
   "metadata": {},
   "outputs": [],
   "source": [
    "# Add subjectID to y_pred\n",
    "y_pred[\"subjectID\"] = questionnaire_df[\"subjectID\"].reset_index(drop=True)\n",
    "\n",
    "# Create results/follow-up/transdiagnostic-factors if it doesn't exist\n",
    "if not os.path.exists(\"results/follow-up/transdiagnostic-factors\"):\n",
    "    os.makedirs(\"results/follow-up/transdiagnostic-factors\")\n",
    "\n",
    "# Save to csv\n",
    "y_pred.to_csv(\n",
    "    \"results/follow-up/transdiagnostic-factors/predicted_factor_scores.csv\",\n",
    "    index=False,\n",
    ")"
   ]
  }
 ],
 "metadata": {
  "kernelspec": {
   "display_name": "tu_test_env",
   "language": "python",
   "name": "tu_test_env"
  },
  "language_info": {
   "codemirror_mode": {
    "name": "ipython",
    "version": 3
   },
   "file_extension": ".py",
   "mimetype": "text/x-python",
   "name": "python",
   "nbconvert_exporter": "python",
   "pygments_lexer": "ipython3",
   "version": "3.9.19"
  }
 },
 "nbformat": 4,
 "nbformat_minor": 2
}
